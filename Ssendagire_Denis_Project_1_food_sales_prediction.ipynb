{
  "nbformat": 4,
  "nbformat_minor": 0,
  "metadata": {
    "colab": {
      "provenance": [],
      "collapsed_sections": [],
      "authorship_tag": "ABX9TyMNwamSRYVVYAB9sCKp0IOO",
      "include_colab_link": true
    },
    "kernelspec": {
      "name": "python3",
      "display_name": "Python 3"
    },
    "language_info": {
      "name": "python"
    }
  },
  "cells": [
    {
      "cell_type": "markdown",
      "metadata": {
        "id": "view-in-github",
        "colab_type": "text"
      },
      "source": [
        "<a href=\"https://colab.research.google.com/github/Ssendags/Food_Sales_Predictions/blob/main/Ssendagire_Denis_Project_1_food_sales_prediction.ipynb\" target=\"_parent\"><img src=\"https://colab.research.google.com/assets/colab-badge.svg\" alt=\"Open In Colab\"/></a>"
      ]
    },
    {
      "cell_type": "code",
      "execution_count": 2,
      "metadata": {
        "id": "5KrCQAIA4D-0",
        "outputId": "29ba171f-ee43-4b88-8354-e938b7305fda",
        "colab": {
          "base_uri": "https://localhost:8080/"
        }
      },
      "outputs": [
        {
          "output_type": "stream",
          "name": "stdout",
          "text": [
            "Mounted at /content/drive\n"
          ]
        }
      ],
      "source": [
        "from google.colab import drive\n",
        "drive.mount('/content/drive')"
      ]
    },
    {
      "cell_type": "code",
      "source": [
        "import pandas as pd"
      ],
      "metadata": {
        "id": "wWFz1lbcA8v3"
      },
      "execution_count": 3,
      "outputs": []
    },
    {
      "cell_type": "markdown",
      "source": [
        "**Project 1 Part 1:** Load the dataset"
      ],
      "metadata": {
        "id": "Tzfj9Qmyvb8r"
      }
    },
    {
      "cell_type": "code",
      "source": [
        "# There are 8523 rows and 12 columns.\n",
        "filename = \"/content/drive/MyDrive/Colab Notebooks/sales_predictions (1).csv\"\n",
        "df = pd.read_csv(filename)\n",
        "df"
      ],
      "metadata": {
        "id": "rNS9TeKSb_6l",
        "outputId": "d8cb0682-6398-48b6-fe63-a966eea75eb3",
        "colab": {
          "base_uri": "https://localhost:8080/",
          "height": 424
        }
      },
      "execution_count": 4,
      "outputs": [
        {
          "output_type": "execute_result",
          "data": {
            "text/plain": [
              "     Item_Identifier  Item_Weight Item_Fat_Content  Item_Visibility  \\\n",
              "0              FDA15        9.300          Low Fat         0.016047   \n",
              "1              DRC01        5.920          Regular         0.019278   \n",
              "2              FDN15       17.500          Low Fat         0.016760   \n",
              "3              FDX07       19.200          Regular         0.000000   \n",
              "4              NCD19        8.930          Low Fat         0.000000   \n",
              "...              ...          ...              ...              ...   \n",
              "8518           FDF22        6.865          Low Fat         0.056783   \n",
              "8519           FDS36        8.380          Regular         0.046982   \n",
              "8520           NCJ29       10.600          Low Fat         0.035186   \n",
              "8521           FDN46        7.210          Regular         0.145221   \n",
              "8522           DRG01       14.800          Low Fat         0.044878   \n",
              "\n",
              "                  Item_Type  Item_MRP Outlet_Identifier  \\\n",
              "0                     Dairy  249.8092            OUT049   \n",
              "1               Soft Drinks   48.2692            OUT018   \n",
              "2                      Meat  141.6180            OUT049   \n",
              "3     Fruits and Vegetables  182.0950            OUT010   \n",
              "4                 Household   53.8614            OUT013   \n",
              "...                     ...       ...               ...   \n",
              "8518            Snack Foods  214.5218            OUT013   \n",
              "8519           Baking Goods  108.1570            OUT045   \n",
              "8520     Health and Hygiene   85.1224            OUT035   \n",
              "8521            Snack Foods  103.1332            OUT018   \n",
              "8522            Soft Drinks   75.4670            OUT046   \n",
              "\n",
              "      Outlet_Establishment_Year Outlet_Size Outlet_Location_Type  \\\n",
              "0                          1999      Medium               Tier 1   \n",
              "1                          2009      Medium               Tier 3   \n",
              "2                          1999      Medium               Tier 1   \n",
              "3                          1998         NaN               Tier 3   \n",
              "4                          1987        High               Tier 3   \n",
              "...                         ...         ...                  ...   \n",
              "8518                       1987        High               Tier 3   \n",
              "8519                       2002         NaN               Tier 2   \n",
              "8520                       2004       Small               Tier 2   \n",
              "8521                       2009      Medium               Tier 3   \n",
              "8522                       1997       Small               Tier 1   \n",
              "\n",
              "            Outlet_Type  Item_Outlet_Sales  \n",
              "0     Supermarket Type1          3735.1380  \n",
              "1     Supermarket Type2           443.4228  \n",
              "2     Supermarket Type1          2097.2700  \n",
              "3         Grocery Store           732.3800  \n",
              "4     Supermarket Type1           994.7052  \n",
              "...                 ...                ...  \n",
              "8518  Supermarket Type1          2778.3834  \n",
              "8519  Supermarket Type1           549.2850  \n",
              "8520  Supermarket Type1          1193.1136  \n",
              "8521  Supermarket Type2          1845.5976  \n",
              "8522  Supermarket Type1           765.6700  \n",
              "\n",
              "[8523 rows x 12 columns]"
            ],
            "text/html": [
              "\n",
              "  <div id=\"df-8c69cab5-c37d-4ae2-b6bd-6a2e9d2adbc8\">\n",
              "    <div class=\"colab-df-container\">\n",
              "      <div>\n",
              "<style scoped>\n",
              "    .dataframe tbody tr th:only-of-type {\n",
              "        vertical-align: middle;\n",
              "    }\n",
              "\n",
              "    .dataframe tbody tr th {\n",
              "        vertical-align: top;\n",
              "    }\n",
              "\n",
              "    .dataframe thead th {\n",
              "        text-align: right;\n",
              "    }\n",
              "</style>\n",
              "<table border=\"1\" class=\"dataframe\">\n",
              "  <thead>\n",
              "    <tr style=\"text-align: right;\">\n",
              "      <th></th>\n",
              "      <th>Item_Identifier</th>\n",
              "      <th>Item_Weight</th>\n",
              "      <th>Item_Fat_Content</th>\n",
              "      <th>Item_Visibility</th>\n",
              "      <th>Item_Type</th>\n",
              "      <th>Item_MRP</th>\n",
              "      <th>Outlet_Identifier</th>\n",
              "      <th>Outlet_Establishment_Year</th>\n",
              "      <th>Outlet_Size</th>\n",
              "      <th>Outlet_Location_Type</th>\n",
              "      <th>Outlet_Type</th>\n",
              "      <th>Item_Outlet_Sales</th>\n",
              "    </tr>\n",
              "  </thead>\n",
              "  <tbody>\n",
              "    <tr>\n",
              "      <th>0</th>\n",
              "      <td>FDA15</td>\n",
              "      <td>9.300</td>\n",
              "      <td>Low Fat</td>\n",
              "      <td>0.016047</td>\n",
              "      <td>Dairy</td>\n",
              "      <td>249.8092</td>\n",
              "      <td>OUT049</td>\n",
              "      <td>1999</td>\n",
              "      <td>Medium</td>\n",
              "      <td>Tier 1</td>\n",
              "      <td>Supermarket Type1</td>\n",
              "      <td>3735.1380</td>\n",
              "    </tr>\n",
              "    <tr>\n",
              "      <th>1</th>\n",
              "      <td>DRC01</td>\n",
              "      <td>5.920</td>\n",
              "      <td>Regular</td>\n",
              "      <td>0.019278</td>\n",
              "      <td>Soft Drinks</td>\n",
              "      <td>48.2692</td>\n",
              "      <td>OUT018</td>\n",
              "      <td>2009</td>\n",
              "      <td>Medium</td>\n",
              "      <td>Tier 3</td>\n",
              "      <td>Supermarket Type2</td>\n",
              "      <td>443.4228</td>\n",
              "    </tr>\n",
              "    <tr>\n",
              "      <th>2</th>\n",
              "      <td>FDN15</td>\n",
              "      <td>17.500</td>\n",
              "      <td>Low Fat</td>\n",
              "      <td>0.016760</td>\n",
              "      <td>Meat</td>\n",
              "      <td>141.6180</td>\n",
              "      <td>OUT049</td>\n",
              "      <td>1999</td>\n",
              "      <td>Medium</td>\n",
              "      <td>Tier 1</td>\n",
              "      <td>Supermarket Type1</td>\n",
              "      <td>2097.2700</td>\n",
              "    </tr>\n",
              "    <tr>\n",
              "      <th>3</th>\n",
              "      <td>FDX07</td>\n",
              "      <td>19.200</td>\n",
              "      <td>Regular</td>\n",
              "      <td>0.000000</td>\n",
              "      <td>Fruits and Vegetables</td>\n",
              "      <td>182.0950</td>\n",
              "      <td>OUT010</td>\n",
              "      <td>1998</td>\n",
              "      <td>NaN</td>\n",
              "      <td>Tier 3</td>\n",
              "      <td>Grocery Store</td>\n",
              "      <td>732.3800</td>\n",
              "    </tr>\n",
              "    <tr>\n",
              "      <th>4</th>\n",
              "      <td>NCD19</td>\n",
              "      <td>8.930</td>\n",
              "      <td>Low Fat</td>\n",
              "      <td>0.000000</td>\n",
              "      <td>Household</td>\n",
              "      <td>53.8614</td>\n",
              "      <td>OUT013</td>\n",
              "      <td>1987</td>\n",
              "      <td>High</td>\n",
              "      <td>Tier 3</td>\n",
              "      <td>Supermarket Type1</td>\n",
              "      <td>994.7052</td>\n",
              "    </tr>\n",
              "    <tr>\n",
              "      <th>...</th>\n",
              "      <td>...</td>\n",
              "      <td>...</td>\n",
              "      <td>...</td>\n",
              "      <td>...</td>\n",
              "      <td>...</td>\n",
              "      <td>...</td>\n",
              "      <td>...</td>\n",
              "      <td>...</td>\n",
              "      <td>...</td>\n",
              "      <td>...</td>\n",
              "      <td>...</td>\n",
              "      <td>...</td>\n",
              "    </tr>\n",
              "    <tr>\n",
              "      <th>8518</th>\n",
              "      <td>FDF22</td>\n",
              "      <td>6.865</td>\n",
              "      <td>Low Fat</td>\n",
              "      <td>0.056783</td>\n",
              "      <td>Snack Foods</td>\n",
              "      <td>214.5218</td>\n",
              "      <td>OUT013</td>\n",
              "      <td>1987</td>\n",
              "      <td>High</td>\n",
              "      <td>Tier 3</td>\n",
              "      <td>Supermarket Type1</td>\n",
              "      <td>2778.3834</td>\n",
              "    </tr>\n",
              "    <tr>\n",
              "      <th>8519</th>\n",
              "      <td>FDS36</td>\n",
              "      <td>8.380</td>\n",
              "      <td>Regular</td>\n",
              "      <td>0.046982</td>\n",
              "      <td>Baking Goods</td>\n",
              "      <td>108.1570</td>\n",
              "      <td>OUT045</td>\n",
              "      <td>2002</td>\n",
              "      <td>NaN</td>\n",
              "      <td>Tier 2</td>\n",
              "      <td>Supermarket Type1</td>\n",
              "      <td>549.2850</td>\n",
              "    </tr>\n",
              "    <tr>\n",
              "      <th>8520</th>\n",
              "      <td>NCJ29</td>\n",
              "      <td>10.600</td>\n",
              "      <td>Low Fat</td>\n",
              "      <td>0.035186</td>\n",
              "      <td>Health and Hygiene</td>\n",
              "      <td>85.1224</td>\n",
              "      <td>OUT035</td>\n",
              "      <td>2004</td>\n",
              "      <td>Small</td>\n",
              "      <td>Tier 2</td>\n",
              "      <td>Supermarket Type1</td>\n",
              "      <td>1193.1136</td>\n",
              "    </tr>\n",
              "    <tr>\n",
              "      <th>8521</th>\n",
              "      <td>FDN46</td>\n",
              "      <td>7.210</td>\n",
              "      <td>Regular</td>\n",
              "      <td>0.145221</td>\n",
              "      <td>Snack Foods</td>\n",
              "      <td>103.1332</td>\n",
              "      <td>OUT018</td>\n",
              "      <td>2009</td>\n",
              "      <td>Medium</td>\n",
              "      <td>Tier 3</td>\n",
              "      <td>Supermarket Type2</td>\n",
              "      <td>1845.5976</td>\n",
              "    </tr>\n",
              "    <tr>\n",
              "      <th>8522</th>\n",
              "      <td>DRG01</td>\n",
              "      <td>14.800</td>\n",
              "      <td>Low Fat</td>\n",
              "      <td>0.044878</td>\n",
              "      <td>Soft Drinks</td>\n",
              "      <td>75.4670</td>\n",
              "      <td>OUT046</td>\n",
              "      <td>1997</td>\n",
              "      <td>Small</td>\n",
              "      <td>Tier 1</td>\n",
              "      <td>Supermarket Type1</td>\n",
              "      <td>765.6700</td>\n",
              "    </tr>\n",
              "  </tbody>\n",
              "</table>\n",
              "<p>8523 rows × 12 columns</p>\n",
              "</div>\n",
              "      <button class=\"colab-df-convert\" onclick=\"convertToInteractive('df-8c69cab5-c37d-4ae2-b6bd-6a2e9d2adbc8')\"\n",
              "              title=\"Convert this dataframe to an interactive table.\"\n",
              "              style=\"display:none;\">\n",
              "        \n",
              "  <svg xmlns=\"http://www.w3.org/2000/svg\" height=\"24px\"viewBox=\"0 0 24 24\"\n",
              "       width=\"24px\">\n",
              "    <path d=\"M0 0h24v24H0V0z\" fill=\"none\"/>\n",
              "    <path d=\"M18.56 5.44l.94 2.06.94-2.06 2.06-.94-2.06-.94-.94-2.06-.94 2.06-2.06.94zm-11 1L8.5 8.5l.94-2.06 2.06-.94-2.06-.94L8.5 2.5l-.94 2.06-2.06.94zm10 10l.94 2.06.94-2.06 2.06-.94-2.06-.94-.94-2.06-.94 2.06-2.06.94z\"/><path d=\"M17.41 7.96l-1.37-1.37c-.4-.4-.92-.59-1.43-.59-.52 0-1.04.2-1.43.59L10.3 9.45l-7.72 7.72c-.78.78-.78 2.05 0 2.83L4 21.41c.39.39.9.59 1.41.59.51 0 1.02-.2 1.41-.59l7.78-7.78 2.81-2.81c.8-.78.8-2.07 0-2.86zM5.41 20L4 18.59l7.72-7.72 1.47 1.35L5.41 20z\"/>\n",
              "  </svg>\n",
              "      </button>\n",
              "      \n",
              "  <style>\n",
              "    .colab-df-container {\n",
              "      display:flex;\n",
              "      flex-wrap:wrap;\n",
              "      gap: 12px;\n",
              "    }\n",
              "\n",
              "    .colab-df-convert {\n",
              "      background-color: #E8F0FE;\n",
              "      border: none;\n",
              "      border-radius: 50%;\n",
              "      cursor: pointer;\n",
              "      display: none;\n",
              "      fill: #1967D2;\n",
              "      height: 32px;\n",
              "      padding: 0 0 0 0;\n",
              "      width: 32px;\n",
              "    }\n",
              "\n",
              "    .colab-df-convert:hover {\n",
              "      background-color: #E2EBFA;\n",
              "      box-shadow: 0px 1px 2px rgba(60, 64, 67, 0.3), 0px 1px 3px 1px rgba(60, 64, 67, 0.15);\n",
              "      fill: #174EA6;\n",
              "    }\n",
              "\n",
              "    [theme=dark] .colab-df-convert {\n",
              "      background-color: #3B4455;\n",
              "      fill: #D2E3FC;\n",
              "    }\n",
              "\n",
              "    [theme=dark] .colab-df-convert:hover {\n",
              "      background-color: #434B5C;\n",
              "      box-shadow: 0px 1px 3px 1px rgba(0, 0, 0, 0.15);\n",
              "      filter: drop-shadow(0px 1px 2px rgba(0, 0, 0, 0.3));\n",
              "      fill: #FFFFFF;\n",
              "    }\n",
              "  </style>\n",
              "\n",
              "      <script>\n",
              "        const buttonEl =\n",
              "          document.querySelector('#df-8c69cab5-c37d-4ae2-b6bd-6a2e9d2adbc8 button.colab-df-convert');\n",
              "        buttonEl.style.display =\n",
              "          google.colab.kernel.accessAllowed ? 'block' : 'none';\n",
              "\n",
              "        async function convertToInteractive(key) {\n",
              "          const element = document.querySelector('#df-8c69cab5-c37d-4ae2-b6bd-6a2e9d2adbc8');\n",
              "          const dataTable =\n",
              "            await google.colab.kernel.invokeFunction('convertToInteractive',\n",
              "                                                     [key], {});\n",
              "          if (!dataTable) return;\n",
              "\n",
              "          const docLinkHtml = 'Like what you see? Visit the ' +\n",
              "            '<a target=\"_blank\" href=https://colab.research.google.com/notebooks/data_table.ipynb>data table notebook</a>'\n",
              "            + ' to learn more about interactive tables.';\n",
              "          element.innerHTML = '';\n",
              "          dataTable['output_type'] = 'display_data';\n",
              "          await google.colab.output.renderOutput(dataTable, element);\n",
              "          const docLink = document.createElement('div');\n",
              "          docLink.innerHTML = docLinkHtml;\n",
              "          element.appendChild(docLink);\n",
              "        }\n",
              "      </script>\n",
              "    </div>\n",
              "  </div>\n",
              "  "
            ]
          },
          "metadata": {},
          "execution_count": 4
        }
      ]
    },
    {
      "cell_type": "code",
      "source": [],
      "metadata": {
        "id": "biYDly_wQRSX"
      },
      "execution_count": 4,
      "outputs": []
    },
    {
      "cell_type": "markdown",
      "source": [
        "**Project 1 Part 2:** Check for number of rows and columns of the dataset."
      ],
      "metadata": {
        "id": "HfwfTuFpvnCH"
      }
    },
    {
      "cell_type": "code",
      "source": [
        "# There are 8523 rows and 12 columns.\n",
        "df.shape"
      ],
      "metadata": {
        "colab": {
          "base_uri": "https://localhost:8080/"
        },
        "id": "lVVsMr8_s6-Q",
        "outputId": "acbce47a-6823-4807-8bb3-5def19bc86dd"
      },
      "execution_count": 5,
      "outputs": [
        {
          "output_type": "execute_result",
          "data": {
            "text/plain": [
              "(8523, 12)"
            ]
          },
          "metadata": {},
          "execution_count": 5
        }
      ]
    },
    {
      "cell_type": "code",
      "source": [
        "# Below are the data types of each variable.\n",
        "df.dtypes"
      ],
      "metadata": {
        "colab": {
          "base_uri": "https://localhost:8080/"
        },
        "id": "xxzVQcEf3UYL",
        "outputId": "1aa01bb8-6fa2-4d0e-9607-92381f41605d"
      },
      "execution_count": 6,
      "outputs": [
        {
          "output_type": "execute_result",
          "data": {
            "text/plain": [
              "Item_Identifier               object\n",
              "Item_Weight                  float64\n",
              "Item_Fat_Content              object\n",
              "Item_Visibility              float64\n",
              "Item_Type                     object\n",
              "Item_MRP                     float64\n",
              "Outlet_Identifier             object\n",
              "Outlet_Establishment_Year      int64\n",
              "Outlet_Size                   object\n",
              "Outlet_Location_Type          object\n",
              "Outlet_Type                   object\n",
              "Item_Outlet_Sales            float64\n",
              "dtype: object"
            ]
          },
          "metadata": {},
          "execution_count": 6
        }
      ]
    },
    {
      "cell_type": "code",
      "source": [
        "# Count the number of duplicated rows.\n",
        "df.duplicated().sum()\n",
        "# No duplicated rows in this dataset."
      ],
      "metadata": {
        "colab": {
          "base_uri": "https://localhost:8080/"
        },
        "id": "sR5X_0hQU4dZ",
        "outputId": "e7b78c43-46ec-47d7-defd-35307348209d"
      },
      "execution_count": 7,
      "outputs": [
        {
          "output_type": "execute_result",
          "data": {
            "text/plain": [
              "0"
            ]
          },
          "metadata": {},
          "execution_count": 7
        }
      ]
    },
    {
      "cell_type": "code",
      "source": [
        "# Check for incorrect data types. Data types seen to be okay compared to the data dictionary\n",
        "df.info()"
      ],
      "metadata": {
        "colab": {
          "base_uri": "https://localhost:8080/"
        },
        "id": "lzDoTriLXHpW",
        "outputId": "396e1a29-a272-4140-f5d1-5babb8a4026f"
      },
      "execution_count": 8,
      "outputs": [
        {
          "output_type": "stream",
          "name": "stdout",
          "text": [
            "<class 'pandas.core.frame.DataFrame'>\n",
            "RangeIndex: 8523 entries, 0 to 8522\n",
            "Data columns (total 12 columns):\n",
            " #   Column                     Non-Null Count  Dtype  \n",
            "---  ------                     --------------  -----  \n",
            " 0   Item_Identifier            8523 non-null   object \n",
            " 1   Item_Weight                7060 non-null   float64\n",
            " 2   Item_Fat_Content           8523 non-null   object \n",
            " 3   Item_Visibility            8523 non-null   float64\n",
            " 4   Item_Type                  8523 non-null   object \n",
            " 5   Item_MRP                   8523 non-null   float64\n",
            " 6   Outlet_Identifier          8523 non-null   object \n",
            " 7   Outlet_Establishment_Year  8523 non-null   int64  \n",
            " 8   Outlet_Size                6113 non-null   object \n",
            " 9   Outlet_Location_Type       8523 non-null   object \n",
            " 10  Outlet_Type                8523 non-null   object \n",
            " 11  Item_Outlet_Sales          8523 non-null   float64\n",
            "dtypes: float64(4), int64(1), object(7)\n",
            "memory usage: 799.2+ KB\n"
          ]
        }
      ]
    },
    {
      "cell_type": "code",
      "source": [
        "# Check for incosistencies in categorical values\n",
        "# Found: Low Fat, LF and low fat which we assume are the same. Regular and reg are assumed to be the same\n",
        "# Inconsistencies were found and corrected.\n",
        "df[\"Item_Fat_Content\"].value_counts()"
      ],
      "metadata": {
        "colab": {
          "base_uri": "https://localhost:8080/"
        },
        "id": "qv3FZG00YvxK",
        "outputId": "c6b025e8-64ba-4fc2-a274-b710c4650dd9"
      },
      "execution_count": 9,
      "outputs": [
        {
          "output_type": "execute_result",
          "data": {
            "text/plain": [
              "Low Fat    5089\n",
              "Regular    2889\n",
              "LF          316\n",
              "reg         117\n",
              "low fat     112\n",
              "Name: Item_Fat_Content, dtype: int64"
            ]
          },
          "metadata": {},
          "execution_count": 9
        }
      ]
    },
    {
      "cell_type": "code",
      "source": [
        "# Standardise items in the Item Fat Content column.\n",
        "df[\"Item_Fat_Content\"] = df[\"Item_Fat_Content\"].replace(\"LF\", \"Low Fat\")\n",
        "df[\"Item_Fat_Content\"] = df[\"Item_Fat_Content\"].replace(\"low fat\", \"Low Fat\")\n",
        "df[\"Item_Fat_Content\"] = df[\"Item_Fat_Content\"].replace(\"reg\", \"Regular\")\n",
        "df[\"Item_Fat_Content\"].value_counts()"
      ],
      "metadata": {
        "colab": {
          "base_uri": "https://localhost:8080/"
        },
        "id": "dQ8dAs2PdQ_D",
        "outputId": "613bc2e4-6216-464c-ac71-109f5d023194"
      },
      "execution_count": 10,
      "outputs": [
        {
          "output_type": "execute_result",
          "data": {
            "text/plain": [
              "Low Fat    5517\n",
              "Regular    3006\n",
              "Name: Item_Fat_Content, dtype: int64"
            ]
          },
          "metadata": {},
          "execution_count": 10
        }
      ]
    },
    {
      "cell_type": "code",
      "source": [
        "# Check for incosisitencies in Item type, no inconsisitency found.\n",
        "df[\"Item_Type\"].value_counts()"
      ],
      "metadata": {
        "colab": {
          "base_uri": "https://localhost:8080/"
        },
        "id": "ab-_0Wv2e1_i",
        "outputId": "fcd57238-bb4d-406e-fa99-ba6303ef6199"
      },
      "execution_count": 11,
      "outputs": [
        {
          "output_type": "execute_result",
          "data": {
            "text/plain": [
              "Fruits and Vegetables    1232\n",
              "Snack Foods              1200\n",
              "Household                 910\n",
              "Frozen Foods              856\n",
              "Dairy                     682\n",
              "Canned                    649\n",
              "Baking Goods              648\n",
              "Health and Hygiene        520\n",
              "Soft Drinks               445\n",
              "Meat                      425\n",
              "Breads                    251\n",
              "Hard Drinks               214\n",
              "Others                    169\n",
              "Starchy Foods             148\n",
              "Breakfast                 110\n",
              "Seafood                    64\n",
              "Name: Item_Type, dtype: int64"
            ]
          },
          "metadata": {},
          "execution_count": 11
        }
      ]
    },
    {
      "cell_type": "code",
      "source": [
        "# Check for incosisitencies in Outlet Identifier, no inconsisitency found.\n",
        "df[\"Outlet_Identifier\"].value_counts()"
      ],
      "metadata": {
        "colab": {
          "base_uri": "https://localhost:8080/"
        },
        "id": "DUXJl7gRfu9i",
        "outputId": "8006c5f4-af7d-476b-92b5-4c2f02803e1d"
      },
      "execution_count": 12,
      "outputs": [
        {
          "output_type": "execute_result",
          "data": {
            "text/plain": [
              "OUT027    935\n",
              "OUT013    932\n",
              "OUT049    930\n",
              "OUT046    930\n",
              "OUT035    930\n",
              "OUT045    929\n",
              "OUT018    928\n",
              "OUT017    926\n",
              "OUT010    555\n",
              "OUT019    528\n",
              "Name: Outlet_Identifier, dtype: int64"
            ]
          },
          "metadata": {},
          "execution_count": 12
        }
      ]
    },
    {
      "cell_type": "code",
      "source": [
        "# Check for incosisitencies in Outlet Location Type, no inconsisitencies found.\n",
        "df[\"Outlet_Location_Type\"].value_counts()"
      ],
      "metadata": {
        "colab": {
          "base_uri": "https://localhost:8080/"
        },
        "id": "234dXHUYf8vB",
        "outputId": "621a1864-db29-4c9a-eea0-e7ecf011a832"
      },
      "execution_count": 13,
      "outputs": [
        {
          "output_type": "execute_result",
          "data": {
            "text/plain": [
              "Tier 3    3350\n",
              "Tier 2    2785\n",
              "Tier 1    2388\n",
              "Name: Outlet_Location_Type, dtype: int64"
            ]
          },
          "metadata": {},
          "execution_count": 13
        }
      ]
    },
    {
      "cell_type": "code",
      "source": [
        "# Check for incosisitencies in Outlet type, no inconsisitencies found.\n",
        "df[\"Outlet_Type\"].value_counts()"
      ],
      "metadata": {
        "colab": {
          "base_uri": "https://localhost:8080/"
        },
        "id": "54YgglrAgOar",
        "outputId": "0d902dd6-3d4e-48fc-adb7-ccf49156f6c3"
      },
      "execution_count": 14,
      "outputs": [
        {
          "output_type": "execute_result",
          "data": {
            "text/plain": [
              "Supermarket Type1    5577\n",
              "Grocery Store        1083\n",
              "Supermarket Type3     935\n",
              "Supermarket Type2     928\n",
              "Name: Outlet_Type, dtype: int64"
            ]
          },
          "metadata": {},
          "execution_count": 14
        }
      ]
    },
    {
      "cell_type": "code",
      "source": [
        "# Check for incosisitencies in Outlet Size, no inconsisitencies found.\n",
        "df[\"Outlet_Size\"].value_counts()"
      ],
      "metadata": {
        "colab": {
          "base_uri": "https://localhost:8080/"
        },
        "id": "-zVoZQCtE4h7",
        "outputId": "a37f2eca-fe54-4786-be11-ef8f8844b69a"
      },
      "execution_count": 15,
      "outputs": [
        {
          "output_type": "execute_result",
          "data": {
            "text/plain": [
              "Medium    2793\n",
              "Small     2388\n",
              "High       932\n",
              "Name: Outlet_Size, dtype: int64"
            ]
          },
          "metadata": {},
          "execution_count": 15
        }
      ]
    },
    {
      "cell_type": "code",
      "source": [
        "# Check for missing values. There are missing values in Item Weight and Outlet Size columns.\n",
        "df.isna().sum()"
      ],
      "metadata": {
        "colab": {
          "base_uri": "https://localhost:8080/"
        },
        "id": "_vhzQdujhHwQ",
        "outputId": "ba867bfb-e158-4e71-a617-44b4c739fa36"
      },
      "execution_count": 16,
      "outputs": [
        {
          "output_type": "execute_result",
          "data": {
            "text/plain": [
              "Item_Identifier                 0\n",
              "Item_Weight                  1463\n",
              "Item_Fat_Content                0\n",
              "Item_Visibility                 0\n",
              "Item_Type                       0\n",
              "Item_MRP                        0\n",
              "Outlet_Identifier               0\n",
              "Outlet_Establishment_Year       0\n",
              "Outlet_Size                  2410\n",
              "Outlet_Location_Type            0\n",
              "Outlet_Type                     0\n",
              "Item_Outlet_Sales               0\n",
              "dtype: int64"
            ]
          },
          "metadata": {},
          "execution_count": 16
        }
      ]
    },
    {
      "cell_type": "code",
      "source": [
        "# Obtain the summary statistics of the numerical columns.\n",
        "df.describe()"
      ],
      "metadata": {
        "colab": {
          "base_uri": "https://localhost:8080/",
          "height": 300
        },
        "id": "UalVlWdW6qdb",
        "outputId": "174661ca-88a9-4120-a2d3-50b5c8ecf34c"
      },
      "execution_count": 17,
      "outputs": [
        {
          "output_type": "execute_result",
          "data": {
            "text/plain": [
              "       Item_Weight  Item_Visibility     Item_MRP  Outlet_Establishment_Year  \\\n",
              "count  7060.000000      8523.000000  8523.000000                8523.000000   \n",
              "mean     12.857645         0.066132   140.992782                1997.831867   \n",
              "std       4.643456         0.051598    62.275067                   8.371760   \n",
              "min       4.555000         0.000000    31.290000                1985.000000   \n",
              "25%       8.773750         0.026989    93.826500                1987.000000   \n",
              "50%      12.600000         0.053931   143.012800                1999.000000   \n",
              "75%      16.850000         0.094585   185.643700                2004.000000   \n",
              "max      21.350000         0.328391   266.888400                2009.000000   \n",
              "\n",
              "       Item_Outlet_Sales  \n",
              "count        8523.000000  \n",
              "mean         2181.288914  \n",
              "std          1706.499616  \n",
              "min            33.290000  \n",
              "25%           834.247400  \n",
              "50%          1794.331000  \n",
              "75%          3101.296400  \n",
              "max         13086.964800  "
            ],
            "text/html": [
              "\n",
              "  <div id=\"df-ff2a5abe-0535-4123-99fa-e656cdae04f2\">\n",
              "    <div class=\"colab-df-container\">\n",
              "      <div>\n",
              "<style scoped>\n",
              "    .dataframe tbody tr th:only-of-type {\n",
              "        vertical-align: middle;\n",
              "    }\n",
              "\n",
              "    .dataframe tbody tr th {\n",
              "        vertical-align: top;\n",
              "    }\n",
              "\n",
              "    .dataframe thead th {\n",
              "        text-align: right;\n",
              "    }\n",
              "</style>\n",
              "<table border=\"1\" class=\"dataframe\">\n",
              "  <thead>\n",
              "    <tr style=\"text-align: right;\">\n",
              "      <th></th>\n",
              "      <th>Item_Weight</th>\n",
              "      <th>Item_Visibility</th>\n",
              "      <th>Item_MRP</th>\n",
              "      <th>Outlet_Establishment_Year</th>\n",
              "      <th>Item_Outlet_Sales</th>\n",
              "    </tr>\n",
              "  </thead>\n",
              "  <tbody>\n",
              "    <tr>\n",
              "      <th>count</th>\n",
              "      <td>7060.000000</td>\n",
              "      <td>8523.000000</td>\n",
              "      <td>8523.000000</td>\n",
              "      <td>8523.000000</td>\n",
              "      <td>8523.000000</td>\n",
              "    </tr>\n",
              "    <tr>\n",
              "      <th>mean</th>\n",
              "      <td>12.857645</td>\n",
              "      <td>0.066132</td>\n",
              "      <td>140.992782</td>\n",
              "      <td>1997.831867</td>\n",
              "      <td>2181.288914</td>\n",
              "    </tr>\n",
              "    <tr>\n",
              "      <th>std</th>\n",
              "      <td>4.643456</td>\n",
              "      <td>0.051598</td>\n",
              "      <td>62.275067</td>\n",
              "      <td>8.371760</td>\n",
              "      <td>1706.499616</td>\n",
              "    </tr>\n",
              "    <tr>\n",
              "      <th>min</th>\n",
              "      <td>4.555000</td>\n",
              "      <td>0.000000</td>\n",
              "      <td>31.290000</td>\n",
              "      <td>1985.000000</td>\n",
              "      <td>33.290000</td>\n",
              "    </tr>\n",
              "    <tr>\n",
              "      <th>25%</th>\n",
              "      <td>8.773750</td>\n",
              "      <td>0.026989</td>\n",
              "      <td>93.826500</td>\n",
              "      <td>1987.000000</td>\n",
              "      <td>834.247400</td>\n",
              "    </tr>\n",
              "    <tr>\n",
              "      <th>50%</th>\n",
              "      <td>12.600000</td>\n",
              "      <td>0.053931</td>\n",
              "      <td>143.012800</td>\n",
              "      <td>1999.000000</td>\n",
              "      <td>1794.331000</td>\n",
              "    </tr>\n",
              "    <tr>\n",
              "      <th>75%</th>\n",
              "      <td>16.850000</td>\n",
              "      <td>0.094585</td>\n",
              "      <td>185.643700</td>\n",
              "      <td>2004.000000</td>\n",
              "      <td>3101.296400</td>\n",
              "    </tr>\n",
              "    <tr>\n",
              "      <th>max</th>\n",
              "      <td>21.350000</td>\n",
              "      <td>0.328391</td>\n",
              "      <td>266.888400</td>\n",
              "      <td>2009.000000</td>\n",
              "      <td>13086.964800</td>\n",
              "    </tr>\n",
              "  </tbody>\n",
              "</table>\n",
              "</div>\n",
              "      <button class=\"colab-df-convert\" onclick=\"convertToInteractive('df-ff2a5abe-0535-4123-99fa-e656cdae04f2')\"\n",
              "              title=\"Convert this dataframe to an interactive table.\"\n",
              "              style=\"display:none;\">\n",
              "        \n",
              "  <svg xmlns=\"http://www.w3.org/2000/svg\" height=\"24px\"viewBox=\"0 0 24 24\"\n",
              "       width=\"24px\">\n",
              "    <path d=\"M0 0h24v24H0V0z\" fill=\"none\"/>\n",
              "    <path d=\"M18.56 5.44l.94 2.06.94-2.06 2.06-.94-2.06-.94-.94-2.06-.94 2.06-2.06.94zm-11 1L8.5 8.5l.94-2.06 2.06-.94-2.06-.94L8.5 2.5l-.94 2.06-2.06.94zm10 10l.94 2.06.94-2.06 2.06-.94-2.06-.94-.94-2.06-.94 2.06-2.06.94z\"/><path d=\"M17.41 7.96l-1.37-1.37c-.4-.4-.92-.59-1.43-.59-.52 0-1.04.2-1.43.59L10.3 9.45l-7.72 7.72c-.78.78-.78 2.05 0 2.83L4 21.41c.39.39.9.59 1.41.59.51 0 1.02-.2 1.41-.59l7.78-7.78 2.81-2.81c.8-.78.8-2.07 0-2.86zM5.41 20L4 18.59l7.72-7.72 1.47 1.35L5.41 20z\"/>\n",
              "  </svg>\n",
              "      </button>\n",
              "      \n",
              "  <style>\n",
              "    .colab-df-container {\n",
              "      display:flex;\n",
              "      flex-wrap:wrap;\n",
              "      gap: 12px;\n",
              "    }\n",
              "\n",
              "    .colab-df-convert {\n",
              "      background-color: #E8F0FE;\n",
              "      border: none;\n",
              "      border-radius: 50%;\n",
              "      cursor: pointer;\n",
              "      display: none;\n",
              "      fill: #1967D2;\n",
              "      height: 32px;\n",
              "      padding: 0 0 0 0;\n",
              "      width: 32px;\n",
              "    }\n",
              "\n",
              "    .colab-df-convert:hover {\n",
              "      background-color: #E2EBFA;\n",
              "      box-shadow: 0px 1px 2px rgba(60, 64, 67, 0.3), 0px 1px 3px 1px rgba(60, 64, 67, 0.15);\n",
              "      fill: #174EA6;\n",
              "    }\n",
              "\n",
              "    [theme=dark] .colab-df-convert {\n",
              "      background-color: #3B4455;\n",
              "      fill: #D2E3FC;\n",
              "    }\n",
              "\n",
              "    [theme=dark] .colab-df-convert:hover {\n",
              "      background-color: #434B5C;\n",
              "      box-shadow: 0px 1px 3px 1px rgba(0, 0, 0, 0.15);\n",
              "      filter: drop-shadow(0px 1px 2px rgba(0, 0, 0, 0.3));\n",
              "      fill: #FFFFFF;\n",
              "    }\n",
              "  </style>\n",
              "\n",
              "      <script>\n",
              "        const buttonEl =\n",
              "          document.querySelector('#df-ff2a5abe-0535-4123-99fa-e656cdae04f2 button.colab-df-convert');\n",
              "        buttonEl.style.display =\n",
              "          google.colab.kernel.accessAllowed ? 'block' : 'none';\n",
              "\n",
              "        async function convertToInteractive(key) {\n",
              "          const element = document.querySelector('#df-ff2a5abe-0535-4123-99fa-e656cdae04f2');\n",
              "          const dataTable =\n",
              "            await google.colab.kernel.invokeFunction('convertToInteractive',\n",
              "                                                     [key], {});\n",
              "          if (!dataTable) return;\n",
              "\n",
              "          const docLinkHtml = 'Like what you see? Visit the ' +\n",
              "            '<a target=\"_blank\" href=https://colab.research.google.com/notebooks/data_table.ipynb>data table notebook</a>'\n",
              "            + ' to learn more about interactive tables.';\n",
              "          element.innerHTML = '';\n",
              "          dataTable['output_type'] = 'display_data';\n",
              "          await google.colab.output.renderOutput(dataTable, element);\n",
              "          const docLink = document.createElement('div');\n",
              "          docLink.innerHTML = docLinkHtml;\n",
              "          element.appendChild(docLink);\n",
              "        }\n",
              "      </script>\n",
              "    </div>\n",
              "  </div>\n",
              "  "
            ]
          },
          "metadata": {},
          "execution_count": 17
        }
      ]
    },
    {
      "cell_type": "code",
      "source": [
        "df.columns"
      ],
      "metadata": {
        "id": "LKTnSI_KgfT5",
        "outputId": "a979ef23-31ea-4938-d337-65381aeb1186",
        "colab": {
          "base_uri": "https://localhost:8080/"
        }
      },
      "execution_count": 18,
      "outputs": [
        {
          "output_type": "execute_result",
          "data": {
            "text/plain": [
              "Index(['Item_Identifier', 'Item_Weight', 'Item_Fat_Content', 'Item_Visibility',\n",
              "       'Item_Type', 'Item_MRP', 'Outlet_Identifier',\n",
              "       'Outlet_Establishment_Year', 'Outlet_Size', 'Outlet_Location_Type',\n",
              "       'Outlet_Type', 'Item_Outlet_Sales'],\n",
              "      dtype='object')"
            ]
          },
          "metadata": {},
          "execution_count": 18
        }
      ]
    },
    {
      "cell_type": "markdown",
      "source": [
        "Import Libraries"
      ],
      "metadata": {
        "id": "D_3wxPBivL15"
      }
    },
    {
      "cell_type": "code",
      "source": [
        "import pandas as pd\n",
        "# `plt` is an alias for the `matplotlib.pyplot` module\n",
        "import matplotlib.pyplot as plt\n",
        "import seaborn as sns\n",
        "import numpy as np"
      ],
      "metadata": {
        "id": "S2SxgbFKik7Q"
      },
      "execution_count": 19,
      "outputs": []
    },
    {
      "cell_type": "markdown",
      "source": [
        "**Project 1 Part 3:**\n",
        "Histogram to view the frequency distribution of food Item Type. The graph presents with overlapping x labels."
      ],
      "metadata": {
        "id": "4KM2ZnJ5zvw9"
      }
    },
    {
      "cell_type": "code",
      "source": [
        "df[\"Item_Type\"].hist()"
      ],
      "metadata": {
        "id": "4PN9JPtuh9Y4",
        "outputId": "41d5d19b-da65-41fd-c420-d027816d3392",
        "colab": {
          "base_uri": "https://localhost:8080/",
          "height": 282
        }
      },
      "execution_count": 20,
      "outputs": [
        {
          "output_type": "execute_result",
          "data": {
            "text/plain": [
              "<matplotlib.axes._subplots.AxesSubplot at 0x7f845ca1db90>"
            ]
          },
          "metadata": {},
          "execution_count": 20
        },
        {
          "output_type": "display_data",
          "data": {
            "text/plain": [
              "<Figure size 432x288 with 1 Axes>"
            ],
            "image/png": "[encoded data removed]"
          },
          "metadata": {
            "needs_background": "light"
          }
        }
      ]
    },
    {
      "cell_type": "markdown",
      "source": [
        "Overlapping x labels are adressed by rotating them.\n",
        "The data also needs spreading out for more clarity, this is achieved by using bins. Below is a better presentation of the frequency distribution of Item Type."
      ],
      "metadata": {
        "id": "lJ8uV_VC1ugv"
      }
    },
    {
      "cell_type": "code",
      "source": [
        "df['Item_Type'].hist(bins = 50)\n",
        "plt.xticks(rotation = 90)\n",
        "# plt.ticklabel_format(useOffset=False, style='plain')"
      ],
      "metadata": {
        "id": "YBXIoGIgj5jJ",
        "outputId": "3edc4e22-1cbe-4fdc-84a9-7351c948d538",
        "colab": {
          "base_uri": "https://localhost:8080/",
          "height": 398
        }
      },
      "execution_count": 21,
      "outputs": [
        {
          "output_type": "execute_result",
          "data": {
            "text/plain": [
              "([0, 1, 2, 3, 4, 5, 6, 7, 8, 9, 10, 11, 12, 13, 14, 15],\n",
              " <a list of 16 Text major ticklabel objects>)"
            ]
          },
          "metadata": {},
          "execution_count": 21
        },
        {
          "output_type": "display_data",
          "data": {
            "text/plain": [
              "<Figure size 432x288 with 1 Axes>"
            ],
            "image/png": "[encoded data removed]"
          },
          "metadata": {
            "needs_background": "light"
          }
        }
      ]
    },
    {
      "cell_type": "markdown",
      "source": [
        "Boxplot to view statstical summaries of various features in the dataset. The Item Outlet Sales were considered in relationship to to Outlet type."
      ],
      "metadata": {
        "id": "NbM0DyVB5Rsh"
      }
    },
    {
      "cell_type": "code",
      "source": [
        "# Boxplot using matplotlib\n",
        "grocery = df.loc[df[\"Outlet_Type\"] == \"Grocery Store\",\"Item_Outlet_Sales\"].values\n",
        "supermarket1 = df.loc[df[\"Outlet_Type\"] == \"Supermarket Type1\",\"Item_Outlet_Sales\"].values\n",
        "supermarket2 = df.loc[df[\"Outlet_Type\"] == \"Supermarket Type2\",\"Item_Outlet_Sales\"].values\n",
        "supermarket3 = df.loc[df[\"Outlet_Type\"] == \"Supermarket Type3\",\"Item_Outlet_Sales\"].values\n",
        "plt.boxplot([grocery,supermarket1,supermarket2,supermarket3], labels=[\"GS\", \"ST1\", \"ST2\", \"ST3\"]);"
      ],
      "metadata": {
        "colab": {
          "base_uri": "https://localhost:8080/",
          "height": 320
        },
        "id": "fiBBKhqq39wV",
        "outputId": "5f7d82cc-a79d-489f-844e-b31efc3db175"
      },
      "execution_count": 22,
      "outputs": [
        {
          "output_type": "stream",
          "name": "stderr",
          "text": [
            "/usr/local/lib/python3.7/dist-packages/matplotlib/cbook/__init__.py:1376: VisibleDeprecationWarning: Creating an ndarray from ragged nested sequences (which is a list-or-tuple of lists-or-tuples-or ndarrays with different lengths or shapes) is deprecated. If you meant to do this, you must specify 'dtype=object' when creating the ndarray.\n",
            "  X = np.atleast_1d(X.T if isinstance(X, np.ndarray) else np.asarray(X))\n"
          ]
        },
        {
          "output_type": "display_data",
          "data": {
            "text/plain": [
              "<Figure size 432x288 with 1 Axes>"
            ],
            "image/png": "[encoded data removed]"
          },
          "metadata": {
            "needs_background": "light"
          }
        }
      ]
    },
    {
      "cell_type": "code",
      "source": [
        "# Boxplot using pandas\n",
        "df.boxplot(column = \"Item_Outlet_Sales\", by = \"Outlet_Type\");"
      ],
      "metadata": {
        "colab": {
          "base_uri": "https://localhost:8080/",
          "height": 357
        },
        "id": "ahVlCMfrMYEE",
        "outputId": "1ae7f075-1f7c-4821-c7e3-3bb854033e0b"
      },
      "execution_count": 23,
      "outputs": [
        {
          "output_type": "stream",
          "name": "stderr",
          "text": [
            "/usr/local/lib/python3.7/dist-packages/matplotlib/cbook/__init__.py:1376: VisibleDeprecationWarning: Creating an ndarray from ragged nested sequences (which is a list-or-tuple of lists-or-tuples-or ndarrays with different lengths or shapes) is deprecated. If you meant to do this, you must specify 'dtype=object' when creating the ndarray.\n",
            "  X = np.atleast_1d(X.T if isinstance(X, np.ndarray) else np.asarray(X))\n"
          ]
        },
        {
          "output_type": "display_data",
          "data": {
            "text/plain": [
              "<Figure size 432x288 with 1 Axes>"
            ],
            "image/png": "[encoded data removed]"
          },
          "metadata": {
            "needs_background": "light"
          }
        }
      ]
    },
    {
      "cell_type": "code",
      "source": [
        "# Boxplot using seaborn\n",
        "sns.boxplot(x=\"Outlet_Type\", y=\"Item_Outlet_Sales\", data=df)"
      ],
      "metadata": {
        "colab": {
          "base_uri": "https://localhost:8080/",
          "height": 297
        },
        "id": "fyt6Y4oxNNgX",
        "outputId": "26b6c319-aff8-4720-9be5-f0165c367602"
      },
      "execution_count": 24,
      "outputs": [
        {
          "output_type": "execute_result",
          "data": {
            "text/plain": [
              "<matplotlib.axes._subplots.AxesSubplot at 0x7f845c197b90>"
            ]
          },
          "metadata": {},
          "execution_count": 24
        },
        {
          "output_type": "display_data",
          "data": {
            "text/plain": [
              "<Figure size 432x288 with 1 Axes>"
            ],
            "image/png": "[encoded data removed]"
          },
          "metadata": {
            "needs_background": "light"
          }
        }
      ]
    },
    {
      "cell_type": "markdown",
      "source": [
        "Heatmap of the correlation between numerical features in the dataframe."
      ],
      "metadata": {
        "id": "kreDS78UOgaQ"
      }
    },
    {
      "cell_type": "code",
      "source": [
        "# After importing libraries and loading the data (df), the correllation coefficient can be checked as below:\n",
        "corr =df.corr()\n",
        "# A heat map is used to visualise the correlations, choosing the colours (cmap = \"Colour\")\n",
        "sns.heatmap(corr, cmap = \"Greens\")"
      ],
      "metadata": {
        "colab": {
          "base_uri": "https://localhost:8080/",
          "height": 409
        },
        "id": "kdTx4yzdOlFE",
        "outputId": "dacb9662-63bd-446c-b2c5-5a5986812693"
      },
      "execution_count": 25,
      "outputs": [
        {
          "output_type": "execute_result",
          "data": {
            "text/plain": [
              "<matplotlib.axes._subplots.AxesSubplot at 0x7f845c13e310>"
            ]
          },
          "metadata": {},
          "execution_count": 25
        },
        {
          "output_type": "display_data",
          "data": {
            "text/plain": [
              "<Figure size 432x288 with 2 Axes>"
            ],
            "image/png": "[encoded data removed]"
          },
          "metadata": {
            "needs_background": "light"
          }
        }
      ]
    },
    {
      "cell_type": "code",
      "source": [
        "# Adding correlation coefficients to the heatmap. Moderate correlation (0.57) is observed between Item Outlet Sales and Item MRP (maximum retail price)\n",
        "sns.heatmap(corr, cmap = \"Greens\", annot = True)"
      ],
      "metadata": {
        "colab": {
          "base_uri": "https://localhost:8080/",
          "height": 409
        },
        "id": "6HQQgmJpR6rj",
        "outputId": "9a95389b-d4d2-41ce-cc4b-6805b79e958f"
      },
      "execution_count": 26,
      "outputs": [
        {
          "output_type": "execute_result",
          "data": {
            "text/plain": [
              "<matplotlib.axes._subplots.AxesSubplot at 0x7f8459826b10>"
            ]
          },
          "metadata": {},
          "execution_count": 26
        },
        {
          "output_type": "display_data",
          "data": {
            "text/plain": [
              "<Figure size 432x288 with 2 Axes>"
            ],
            "image/png": "[encoded data removed]"
          },
          "metadata": {
            "needs_background": "light"
          }
        }
      ]
    },
    {
      "cell_type": "markdown",
      "source": [
        "**Data Visualisation:**\n"
      ],
      "metadata": {
        "id": "_W_phtl3UjyG"
      }
    },
    {
      "cell_type": "code",
      "source": [
        "plt.style.use(\"seaborn\")\n",
        "max_retail_price = df[\"Item_MRP\"]\n",
        "outlet_sales = df[\"Item_Outlet_Sales\"]\n",
        "sns.lineplot(x = max_retail_price, y = outlet_sales)\n",
        "plt.xlim(left=140,right=160)\n",
        "plt.ylim(bottom=0,top=8000)\n",
        "plt.xlabel('Maximum Retail Prices')\n",
        "plt.ylabel('Outlet Sales')\n",
        "plt.title('Maximum Retail Prices vs Item Outlet Sales')"
      ],
      "metadata": {
        "id": "Clgc6NEfU4_2",
        "colab": {
          "base_uri": "https://localhost:8080/",
          "height": 393
        },
        "outputId": "c129e525-8f6d-4b60-fa2d-e76f3869c652"
      },
      "execution_count": 27,
      "outputs": [
        {
          "output_type": "execute_result",
          "data": {
            "text/plain": [
              "Text(0.5, 1.0, 'Maximum Retail Prices vs Item Outlet Sales')"
            ]
          },
          "metadata": {},
          "execution_count": 27
        },
        {
          "output_type": "display_data",
          "data": {
            "text/plain": [
              "<Figure size 576x396 with 1 Axes>"
            ],
            "image/png": "[encoded data removed]"
          },
          "metadata": {}
        }
      ]
    },
    {
      "cell_type": "markdown",
      "source": [
        "From the above visualisation it is noticed that increase in Item Maximum Retail Price corresponds with increase in Item Outlet Sales, which is a positive correlation and this could further relate to outlet type, location type and outlet size."
      ],
      "metadata": {
        "id": "rZVc20wMUGUj"
      }
    },
    {
      "cell_type": "code",
      "source": [
        "plt.style.use(\"seaborn\")\n",
        "outlet_type = df[\"Outlet_Type\"]\n",
        "outlet_sales = df[\"Item_Outlet_Sales\"]\n",
        "sns.barplot(x = outlet_type, y = outlet_sales)\n",
        "plt.xlabel('Outlet Type')\n",
        "plt.ylabel('Outlet Sales')\n",
        "plt.title('Outlet Sale by Outlet Type')"
      ],
      "metadata": {
        "id": "r15BLSwcXIX8",
        "colab": {
          "base_uri": "https://localhost:8080/",
          "height": 393
        },
        "outputId": "8a5e4de4-6648-4ce5-8d9c-e3aa8a205bd8"
      },
      "execution_count": 28,
      "outputs": [
        {
          "output_type": "execute_result",
          "data": {
            "text/plain": [
              "Text(0.5, 1.0, 'Outlet Sale by Outlet Type')"
            ]
          },
          "metadata": {},
          "execution_count": 28
        },
        {
          "output_type": "display_data",
          "data": {
            "text/plain": [
              "<Figure size 576x396 with 1 Axes>"
            ],
            "image/png": "[encoded data removed]"
          },
          "metadata": {}
        }
      ]
    },
    {
      "cell_type": "markdown",
      "source": [
        "The above visualisation indicates that sales are higher at Supermarket3 outlet type, with Supermarket2, supermarket1 and Grocery Store following in that order."
      ],
      "metadata": {
        "id": "CfcBiHvCX7X9"
      }
    },
    {
      "cell_type": "code",
      "source": [
        "plt.style.use(\"seaborn\")\n",
        "outlet_location = df[\"Outlet_Location_Type\"]\n",
        "outlet_sales = df[\"Item_Outlet_Sales\"]\n",
        "sns.barplot(x = outlet_location, y = outlet_sales)\n",
        "plt.xlabel('Outlet Location Type')\n",
        "plt.ylabel('Outlet Sales')\n",
        "plt.title('Outlet Sale by Outlet Location Type')"
      ],
      "metadata": {
        "id": "agxB57nnZFnV",
        "colab": {
          "base_uri": "https://localhost:8080/",
          "height": 393
        },
        "outputId": "8ccfbb67-c8f5-4fd4-ca09-2bbb30bbb96d"
      },
      "execution_count": 29,
      "outputs": [
        {
          "output_type": "execute_result",
          "data": {
            "text/plain": [
              "Text(0.5, 1.0, 'Outlet Sale by Outlet Location Type')"
            ]
          },
          "metadata": {},
          "execution_count": 29
        },
        {
          "output_type": "display_data",
          "data": {
            "text/plain": [
              "<Figure size 576x396 with 1 Axes>"
            ],
            "image/png": "[encoded data removed]"
          },
          "metadata": {}
        }
      ]
    },
    {
      "cell_type": "markdown",
      "source": [
        "The above visualisation indicates that sales are higher at Tier2 outlet location type, with Tier3 following closely and Tier1 coming in last."
      ],
      "metadata": {
        "id": "bDQvBrFcG0rO"
      }
    },
    {
      "cell_type": "markdown",
      "source": [
        "Encoding ordinal data"
      ],
      "metadata": {
        "id": "3sLTfUw9LH3O"
      }
    },
    {
      "cell_type": "code",
      "source": [
        "df['Item_Fat_Content'].replace({'Low Fat':0, 'Regular':1}, inplace=True)\n",
        "df['Item_Fat_Content'].value_counts()"
      ],
      "metadata": {
        "colab": {
          "base_uri": "https://localhost:8080/"
        },
        "id": "b6ToCaHpKnG6",
        "outputId": "e467353a-2914-4589-d067-1813ae579279"
      },
      "execution_count": 30,
      "outputs": [
        {
          "output_type": "execute_result",
          "data": {
            "text/plain": [
              "0    5517\n",
              "1    3006\n",
              "Name: Item_Fat_Content, dtype: int64"
            ]
          },
          "metadata": {},
          "execution_count": 30
        }
      ]
    },
    {
      "cell_type": "code",
      "source": [
        "df['Outlet_Size'].replace({'Small':0, 'Medium':1, 'High':2}, inplace=True)\n",
        "df['Outlet_Size'].value_counts()"
      ],
      "metadata": {
        "colab": {
          "base_uri": "https://localhost:8080/"
        },
        "id": "jruqAzb5LUHp",
        "outputId": "36187fa1-7860-4660-9b51-5ecc44e202a0"
      },
      "execution_count": 31,
      "outputs": [
        {
          "output_type": "execute_result",
          "data": {
            "text/plain": [
              "1.0    2793\n",
              "0.0    2388\n",
              "2.0     932\n",
              "Name: Outlet_Size, dtype: int64"
            ]
          },
          "metadata": {},
          "execution_count": 31
        }
      ]
    },
    {
      "cell_type": "markdown",
      "source": [
        "***Identifying the features (X) and target (y): Assigning the \"Item_Outlet_Sales\" column as the target vector and the rest of the relevant variables as the features matrix.  ***"
      ],
      "metadata": {
        "id": "1VKLSVTyrAEf"
      }
    },
    {
      "cell_type": "code",
      "source": [
        "# Assigning Item_Outlet_Sales as target vector.\n",
        "y = df[\"Item_Outlet_Sales\"]\n",
        "y.head()"
      ],
      "metadata": {
        "id": "gxG0yGt5Amfs",
        "colab": {
          "base_uri": "https://localhost:8080/"
        },
        "outputId": "6b2d2d1f-d81b-4337-8998-2795d90db226"
      },
      "execution_count": 32,
      "outputs": [
        {
          "output_type": "execute_result",
          "data": {
            "text/plain": [
              "0    3735.1380\n",
              "1     443.4228\n",
              "2    2097.2700\n",
              "3     732.3800\n",
              "4     994.7052\n",
              "Name: Item_Outlet_Sales, dtype: float64"
            ]
          },
          "metadata": {},
          "execution_count": 32
        }
      ]
    },
    {
      "cell_type": "code",
      "source": [
        "# Assigning the rest of the columns as features Matrix.\n",
        "X = df.drop(columns=\"Item_Outlet_Sales\")\n",
        "X.head()"
      ],
      "metadata": {
        "id": "lo8MAriUDjQ7",
        "colab": {
          "base_uri": "https://localhost:8080/",
          "height": 206
        },
        "outputId": "9d4d4833-cf05-4336-953b-c2396bc92e24"
      },
      "execution_count": 33,
      "outputs": [
        {
          "output_type": "execute_result",
          "data": {
            "text/plain": [
              "  Item_Identifier  Item_Weight  Item_Fat_Content  Item_Visibility  \\\n",
              "0           FDA15         9.30                 0         0.016047   \n",
              "1           DRC01         5.92                 1         0.019278   \n",
              "2           FDN15        17.50                 0         0.016760   \n",
              "3           FDX07        19.20                 1         0.000000   \n",
              "4           NCD19         8.93                 0         0.000000   \n",
              "\n",
              "               Item_Type  Item_MRP Outlet_Identifier  \\\n",
              "0                  Dairy  249.8092            OUT049   \n",
              "1            Soft Drinks   48.2692            OUT018   \n",
              "2                   Meat  141.6180            OUT049   \n",
              "3  Fruits and Vegetables  182.0950            OUT010   \n",
              "4              Household   53.8614            OUT013   \n",
              "\n",
              "   Outlet_Establishment_Year  Outlet_Size Outlet_Location_Type  \\\n",
              "0                       1999          1.0               Tier 1   \n",
              "1                       2009          1.0               Tier 3   \n",
              "2                       1999          1.0               Tier 1   \n",
              "3                       1998          NaN               Tier 3   \n",
              "4                       1987          2.0               Tier 3   \n",
              "\n",
              "         Outlet_Type  \n",
              "0  Supermarket Type1  \n",
              "1  Supermarket Type2  \n",
              "2  Supermarket Type1  \n",
              "3      Grocery Store  \n",
              "4  Supermarket Type1  "
            ],
            "text/html": [
              "\n",
              "  <div id=\"df-284b8169-5672-48f0-bdec-4d5e4ce3195a\">\n",
              "    <div class=\"colab-df-container\">\n",
              "      <div>\n",
              "<style scoped>\n",
              "    .dataframe tbody tr th:only-of-type {\n",
              "        vertical-align: middle;\n",
              "    }\n",
              "\n",
              "    .dataframe tbody tr th {\n",
              "        vertical-align: top;\n",
              "    }\n",
              "\n",
              "    .dataframe thead th {\n",
              "        text-align: right;\n",
              "    }\n",
              "</style>\n",
              "<table border=\"1\" class=\"dataframe\">\n",
              "  <thead>\n",
              "    <tr style=\"text-align: right;\">\n",
              "      <th></th>\n",
              "      <th>Item_Identifier</th>\n",
              "      <th>Item_Weight</th>\n",
              "      <th>Item_Fat_Content</th>\n",
              "      <th>Item_Visibility</th>\n",
              "      <th>Item_Type</th>\n",
              "      <th>Item_MRP</th>\n",
              "      <th>Outlet_Identifier</th>\n",
              "      <th>Outlet_Establishment_Year</th>\n",
              "      <th>Outlet_Size</th>\n",
              "      <th>Outlet_Location_Type</th>\n",
              "      <th>Outlet_Type</th>\n",
              "    </tr>\n",
              "  </thead>\n",
              "  <tbody>\n",
              "    <tr>\n",
              "      <th>0</th>\n",
              "      <td>FDA15</td>\n",
              "      <td>9.30</td>\n",
              "      <td>0</td>\n",
              "      <td>0.016047</td>\n",
              "      <td>Dairy</td>\n",
              "      <td>249.8092</td>\n",
              "      <td>OUT049</td>\n",
              "      <td>1999</td>\n",
              "      <td>1.0</td>\n",
              "      <td>Tier 1</td>\n",
              "      <td>Supermarket Type1</td>\n",
              "    </tr>\n",
              "    <tr>\n",
              "      <th>1</th>\n",
              "      <td>DRC01</td>\n",
              "      <td>5.92</td>\n",
              "      <td>1</td>\n",
              "      <td>0.019278</td>\n",
              "      <td>Soft Drinks</td>\n",
              "      <td>48.2692</td>\n",
              "      <td>OUT018</td>\n",
              "      <td>2009</td>\n",
              "      <td>1.0</td>\n",
              "      <td>Tier 3</td>\n",
              "      <td>Supermarket Type2</td>\n",
              "    </tr>\n",
              "    <tr>\n",
              "      <th>2</th>\n",
              "      <td>FDN15</td>\n",
              "      <td>17.50</td>\n",
              "      <td>0</td>\n",
              "      <td>0.016760</td>\n",
              "      <td>Meat</td>\n",
              "      <td>141.6180</td>\n",
              "      <td>OUT049</td>\n",
              "      <td>1999</td>\n",
              "      <td>1.0</td>\n",
              "      <td>Tier 1</td>\n",
              "      <td>Supermarket Type1</td>\n",
              "    </tr>\n",
              "    <tr>\n",
              "      <th>3</th>\n",
              "      <td>FDX07</td>\n",
              "      <td>19.20</td>\n",
              "      <td>1</td>\n",
              "      <td>0.000000</td>\n",
              "      <td>Fruits and Vegetables</td>\n",
              "      <td>182.0950</td>\n",
              "      <td>OUT010</td>\n",
              "      <td>1998</td>\n",
              "      <td>NaN</td>\n",
              "      <td>Tier 3</td>\n",
              "      <td>Grocery Store</td>\n",
              "    </tr>\n",
              "    <tr>\n",
              "      <th>4</th>\n",
              "      <td>NCD19</td>\n",
              "      <td>8.93</td>\n",
              "      <td>0</td>\n",
              "      <td>0.000000</td>\n",
              "      <td>Household</td>\n",
              "      <td>53.8614</td>\n",
              "      <td>OUT013</td>\n",
              "      <td>1987</td>\n",
              "      <td>2.0</td>\n",
              "      <td>Tier 3</td>\n",
              "      <td>Supermarket Type1</td>\n",
              "    </tr>\n",
              "  </tbody>\n",
              "</table>\n",
              "</div>\n",
              "      <button class=\"colab-df-convert\" onclick=\"convertToInteractive('df-284b8169-5672-48f0-bdec-4d5e4ce3195a')\"\n",
              "              title=\"Convert this dataframe to an interactive table.\"\n",
              "              style=\"display:none;\">\n",
              "        \n",
              "  <svg xmlns=\"http://www.w3.org/2000/svg\" height=\"24px\"viewBox=\"0 0 24 24\"\n",
              "       width=\"24px\">\n",
              "    <path d=\"M0 0h24v24H0V0z\" fill=\"none\"/>\n",
              "    <path d=\"M18.56 5.44l.94 2.06.94-2.06 2.06-.94-2.06-.94-.94-2.06-.94 2.06-2.06.94zm-11 1L8.5 8.5l.94-2.06 2.06-.94-2.06-.94L8.5 2.5l-.94 2.06-2.06.94zm10 10l.94 2.06.94-2.06 2.06-.94-2.06-.94-.94-2.06-.94 2.06-2.06.94z\"/><path d=\"M17.41 7.96l-1.37-1.37c-.4-.4-.92-.59-1.43-.59-.52 0-1.04.2-1.43.59L10.3 9.45l-7.72 7.72c-.78.78-.78 2.05 0 2.83L4 21.41c.39.39.9.59 1.41.59.51 0 1.02-.2 1.41-.59l7.78-7.78 2.81-2.81c.8-.78.8-2.07 0-2.86zM5.41 20L4 18.59l7.72-7.72 1.47 1.35L5.41 20z\"/>\n",
              "  </svg>\n",
              "      </button>\n",
              "      \n",
              "  <style>\n",
              "    .colab-df-container {\n",
              "      display:flex;\n",
              "      flex-wrap:wrap;\n",
              "      gap: 12px;\n",
              "    }\n",
              "\n",
              "    .colab-df-convert {\n",
              "      background-color: #E8F0FE;\n",
              "      border: none;\n",
              "      border-radius: 50%;\n",
              "      cursor: pointer;\n",
              "      display: none;\n",
              "      fill: #1967D2;\n",
              "      height: 32px;\n",
              "      padding: 0 0 0 0;\n",
              "      width: 32px;\n",
              "    }\n",
              "\n",
              "    .colab-df-convert:hover {\n",
              "      background-color: #E2EBFA;\n",
              "      box-shadow: 0px 1px 2px rgba(60, 64, 67, 0.3), 0px 1px 3px 1px rgba(60, 64, 67, 0.15);\n",
              "      fill: #174EA6;\n",
              "    }\n",
              "\n",
              "    [theme=dark] .colab-df-convert {\n",
              "      background-color: #3B4455;\n",
              "      fill: #D2E3FC;\n",
              "    }\n",
              "\n",
              "    [theme=dark] .colab-df-convert:hover {\n",
              "      background-color: #434B5C;\n",
              "      box-shadow: 0px 1px 3px 1px rgba(0, 0, 0, 0.15);\n",
              "      filter: drop-shadow(0px 1px 2px rgba(0, 0, 0, 0.3));\n",
              "      fill: #FFFFFF;\n",
              "    }\n",
              "  </style>\n",
              "\n",
              "      <script>\n",
              "        const buttonEl =\n",
              "          document.querySelector('#df-284b8169-5672-48f0-bdec-4d5e4ce3195a button.colab-df-convert');\n",
              "        buttonEl.style.display =\n",
              "          google.colab.kernel.accessAllowed ? 'block' : 'none';\n",
              "\n",
              "        async function convertToInteractive(key) {\n",
              "          const element = document.querySelector('#df-284b8169-5672-48f0-bdec-4d5e4ce3195a');\n",
              "          const dataTable =\n",
              "            await google.colab.kernel.invokeFunction('convertToInteractive',\n",
              "                                                     [key], {});\n",
              "          if (!dataTable) return;\n",
              "\n",
              "          const docLinkHtml = 'Like what you see? Visit the ' +\n",
              "            '<a target=\"_blank\" href=https://colab.research.google.com/notebooks/data_table.ipynb>data table notebook</a>'\n",
              "            + ' to learn more about interactive tables.';\n",
              "          element.innerHTML = '';\n",
              "          dataTable['output_type'] = 'display_data';\n",
              "          await google.colab.output.renderOutput(dataTable, element);\n",
              "          const docLink = document.createElement('div');\n",
              "          docLink.innerHTML = docLinkHtml;\n",
              "          element.appendChild(docLink);\n",
              "        }\n",
              "      </script>\n",
              "    </div>\n",
              "  </div>\n",
              "  "
            ]
          },
          "metadata": {},
          "execution_count": 33
        }
      ]
    },
    {
      "cell_type": "code",
      "source": [
        "from sklearn.model_selection import train_test_split"
      ],
      "metadata": {
        "id": "SSxLIC9QE3nc"
      },
      "execution_count": 34,
      "outputs": []
    },
    {
      "cell_type": "code",
      "source": [
        "# Perform a train test split\n",
        "X_train, X_test, y_train, y_test = train_test_split(X, y, random_state = 42)"
      ],
      "metadata": {
        "id": "dxrmJcJ5Efpc"
      },
      "execution_count": 35,
      "outputs": []
    },
    {
      "cell_type": "code",
      "source": [
        "from sklearn.compose import make_column_selector"
      ],
      "metadata": {
        "id": "kLot-mwgFOuk"
      },
      "execution_count": 36,
      "outputs": []
    },
    {
      "cell_type": "code",
      "source": [
        "# Select the categorical columns.\n",
        "cat_selector = make_column_selector(dtype_include = \"object\")\n",
        "cat_selector(X_train)"
      ],
      "metadata": {
        "id": "_7STxvqNFVvK",
        "colab": {
          "base_uri": "https://localhost:8080/"
        },
        "outputId": "a6a38d51-6121-4348-8d17-5fafffb04c47"
      },
      "execution_count": 37,
      "outputs": [
        {
          "output_type": "execute_result",
          "data": {
            "text/plain": [
              "['Item_Identifier',\n",
              " 'Item_Type',\n",
              " 'Outlet_Identifier',\n",
              " 'Outlet_Location_Type',\n",
              " 'Outlet_Type']"
            ]
          },
          "metadata": {},
          "execution_count": 37
        }
      ]
    },
    {
      "cell_type": "code",
      "source": [
        "# Select numerical columns\n",
        "num_selector = make_column_selector(dtype_include = \"float\")\n",
        "num_selector(X_train)"
      ],
      "metadata": {
        "id": "i4AbwsNPFcv8",
        "colab": {
          "base_uri": "https://localhost:8080/"
        },
        "outputId": "59a5972e-53a7-429f-adbc-b488fa2a5399"
      },
      "execution_count": 38,
      "outputs": [
        {
          "output_type": "execute_result",
          "data": {
            "text/plain": [
              "['Item_Weight', 'Item_Visibility', 'Item_MRP', 'Outlet_Size']"
            ]
          },
          "metadata": {},
          "execution_count": 38
        }
      ]
    },
    {
      "cell_type": "code",
      "source": [
        "# create a subset of data for only categorical columns\n",
        "train_cat_data = X_train[cat_selector(X_train)]\n",
        "test_cat_data = X_test[cat_selector(X_test)]\n",
        "train_cat_data"
      ],
      "metadata": {
        "id": "QuX7ulcwvTEM",
        "colab": {
          "base_uri": "https://localhost:8080/",
          "height": 424
        },
        "outputId": "bd4acda0-c5a4-4793-b199-08a4d7fdc46a"
      },
      "execution_count": 39,
      "outputs": [
        {
          "output_type": "execute_result",
          "data": {
            "text/plain": [
              "     Item_Identifier              Item_Type Outlet_Identifier  \\\n",
              "4776           NCG06              Household            OUT018   \n",
              "7510           FDV57            Snack Foods            OUT018   \n",
              "5828           FDM27                   Meat            OUT049   \n",
              "5327           FDG24           Baking Goods            OUT035   \n",
              "4810           FDD05           Frozen Foods            OUT045   \n",
              "...              ...                    ...               ...   \n",
              "5734           FDY08  Fruits and Vegetables            OUT010   \n",
              "5191           FDC41           Frozen Foods            OUT017   \n",
              "5390           NCQ53     Health and Hygiene            OUT045   \n",
              "860            FDL46            Snack Foods            OUT017   \n",
              "7270           NCN30              Household            OUT046   \n",
              "\n",
              "     Outlet_Location_Type        Outlet_Type  \n",
              "4776               Tier 3  Supermarket Type2  \n",
              "7510               Tier 3  Supermarket Type2  \n",
              "5828               Tier 1  Supermarket Type1  \n",
              "5327               Tier 2  Supermarket Type1  \n",
              "4810               Tier 2  Supermarket Type1  \n",
              "...                   ...                ...  \n",
              "5734               Tier 3      Grocery Store  \n",
              "5191               Tier 2  Supermarket Type1  \n",
              "5390               Tier 2  Supermarket Type1  \n",
              "860                Tier 2  Supermarket Type1  \n",
              "7270               Tier 1  Supermarket Type1  \n",
              "\n",
              "[6392 rows x 5 columns]"
            ],
            "text/html": [
              "\n",
              "  <div id=\"df-6e9cd709-73f4-48e8-a1fe-3789b02947df\">\n",
              "    <div class=\"colab-df-container\">\n",
              "      <div>\n",
              "<style scoped>\n",
              "    .dataframe tbody tr th:only-of-type {\n",
              "        vertical-align: middle;\n",
              "    }\n",
              "\n",
              "    .dataframe tbody tr th {\n",
              "        vertical-align: top;\n",
              "    }\n",
              "\n",
              "    .dataframe thead th {\n",
              "        text-align: right;\n",
              "    }\n",
              "</style>\n",
              "<table border=\"1\" class=\"dataframe\">\n",
              "  <thead>\n",
              "    <tr style=\"text-align: right;\">\n",
              "      <th></th>\n",
              "      <th>Item_Identifier</th>\n",
              "      <th>Item_Type</th>\n",
              "      <th>Outlet_Identifier</th>\n",
              "      <th>Outlet_Location_Type</th>\n",
              "      <th>Outlet_Type</th>\n",
              "    </tr>\n",
              "  </thead>\n",
              "  <tbody>\n",
              "    <tr>\n",
              "      <th>4776</th>\n",
              "      <td>NCG06</td>\n",
              "      <td>Household</td>\n",
              "      <td>OUT018</td>\n",
              "      <td>Tier 3</td>\n",
              "      <td>Supermarket Type2</td>\n",
              "    </tr>\n",
              "    <tr>\n",
              "      <th>7510</th>\n",
              "      <td>FDV57</td>\n",
              "      <td>Snack Foods</td>\n",
              "      <td>OUT018</td>\n",
              "      <td>Tier 3</td>\n",
              "      <td>Supermarket Type2</td>\n",
              "    </tr>\n",
              "    <tr>\n",
              "      <th>5828</th>\n",
              "      <td>FDM27</td>\n",
              "      <td>Meat</td>\n",
              "      <td>OUT049</td>\n",
              "      <td>Tier 1</td>\n",
              "      <td>Supermarket Type1</td>\n",
              "    </tr>\n",
              "    <tr>\n",
              "      <th>5327</th>\n",
              "      <td>FDG24</td>\n",
              "      <td>Baking Goods</td>\n",
              "      <td>OUT035</td>\n",
              "      <td>Tier 2</td>\n",
              "      <td>Supermarket Type1</td>\n",
              "    </tr>\n",
              "    <tr>\n",
              "      <th>4810</th>\n",
              "      <td>FDD05</td>\n",
              "      <td>Frozen Foods</td>\n",
              "      <td>OUT045</td>\n",
              "      <td>Tier 2</td>\n",
              "      <td>Supermarket Type1</td>\n",
              "    </tr>\n",
              "    <tr>\n",
              "      <th>...</th>\n",
              "      <td>...</td>\n",
              "      <td>...</td>\n",
              "      <td>...</td>\n",
              "      <td>...</td>\n",
              "      <td>...</td>\n",
              "    </tr>\n",
              "    <tr>\n",
              "      <th>5734</th>\n",
              "      <td>FDY08</td>\n",
              "      <td>Fruits and Vegetables</td>\n",
              "      <td>OUT010</td>\n",
              "      <td>Tier 3</td>\n",
              "      <td>Grocery Store</td>\n",
              "    </tr>\n",
              "    <tr>\n",
              "      <th>5191</th>\n",
              "      <td>FDC41</td>\n",
              "      <td>Frozen Foods</td>\n",
              "      <td>OUT017</td>\n",
              "      <td>Tier 2</td>\n",
              "      <td>Supermarket Type1</td>\n",
              "    </tr>\n",
              "    <tr>\n",
              "      <th>5390</th>\n",
              "      <td>NCQ53</td>\n",
              "      <td>Health and Hygiene</td>\n",
              "      <td>OUT045</td>\n",
              "      <td>Tier 2</td>\n",
              "      <td>Supermarket Type1</td>\n",
              "    </tr>\n",
              "    <tr>\n",
              "      <th>860</th>\n",
              "      <td>FDL46</td>\n",
              "      <td>Snack Foods</td>\n",
              "      <td>OUT017</td>\n",
              "      <td>Tier 2</td>\n",
              "      <td>Supermarket Type1</td>\n",
              "    </tr>\n",
              "    <tr>\n",
              "      <th>7270</th>\n",
              "      <td>NCN30</td>\n",
              "      <td>Household</td>\n",
              "      <td>OUT046</td>\n",
              "      <td>Tier 1</td>\n",
              "      <td>Supermarket Type1</td>\n",
              "    </tr>\n",
              "  </tbody>\n",
              "</table>\n",
              "<p>6392 rows × 5 columns</p>\n",
              "</div>\n",
              "      <button class=\"colab-df-convert\" onclick=\"convertToInteractive('df-6e9cd709-73f4-48e8-a1fe-3789b02947df')\"\n",
              "              title=\"Convert this dataframe to an interactive table.\"\n",
              "              style=\"display:none;\">\n",
              "        \n",
              "  <svg xmlns=\"http://www.w3.org/2000/svg\" height=\"24px\"viewBox=\"0 0 24 24\"\n",
              "       width=\"24px\">\n",
              "    <path d=\"M0 0h24v24H0V0z\" fill=\"none\"/>\n",
              "    <path d=\"M18.56 5.44l.94 2.06.94-2.06 2.06-.94-2.06-.94-.94-2.06-.94 2.06-2.06.94zm-11 1L8.5 8.5l.94-2.06 2.06-.94-2.06-.94L8.5 2.5l-.94 2.06-2.06.94zm10 10l.94 2.06.94-2.06 2.06-.94-2.06-.94-.94-2.06-.94 2.06-2.06.94z\"/><path d=\"M17.41 7.96l-1.37-1.37c-.4-.4-.92-.59-1.43-.59-.52 0-1.04.2-1.43.59L10.3 9.45l-7.72 7.72c-.78.78-.78 2.05 0 2.83L4 21.41c.39.39.9.59 1.41.59.51 0 1.02-.2 1.41-.59l7.78-7.78 2.81-2.81c.8-.78.8-2.07 0-2.86zM5.41 20L4 18.59l7.72-7.72 1.47 1.35L5.41 20z\"/>\n",
              "  </svg>\n",
              "      </button>\n",
              "      \n",
              "  <style>\n",
              "    .colab-df-container {\n",
              "      display:flex;\n",
              "      flex-wrap:wrap;\n",
              "      gap: 12px;\n",
              "    }\n",
              "\n",
              "    .colab-df-convert {\n",
              "      background-color: #E8F0FE;\n",
              "      border: none;\n",
              "      border-radius: 50%;\n",
              "      cursor: pointer;\n",
              "      display: none;\n",
              "      fill: #1967D2;\n",
              "      height: 32px;\n",
              "      padding: 0 0 0 0;\n",
              "      width: 32px;\n",
              "    }\n",
              "\n",
              "    .colab-df-convert:hover {\n",
              "      background-color: #E2EBFA;\n",
              "      box-shadow: 0px 1px 2px rgba(60, 64, 67, 0.3), 0px 1px 3px 1px rgba(60, 64, 67, 0.15);\n",
              "      fill: #174EA6;\n",
              "    }\n",
              "\n",
              "    [theme=dark] .colab-df-convert {\n",
              "      background-color: #3B4455;\n",
              "      fill: #D2E3FC;\n",
              "    }\n",
              "\n",
              "    [theme=dark] .colab-df-convert:hover {\n",
              "      background-color: #434B5C;\n",
              "      box-shadow: 0px 1px 3px 1px rgba(0, 0, 0, 0.15);\n",
              "      filter: drop-shadow(0px 1px 2px rgba(0, 0, 0, 0.3));\n",
              "      fill: #FFFFFF;\n",
              "    }\n",
              "  </style>\n",
              "\n",
              "      <script>\n",
              "        const buttonEl =\n",
              "          document.querySelector('#df-6e9cd709-73f4-48e8-a1fe-3789b02947df button.colab-df-convert');\n",
              "        buttonEl.style.display =\n",
              "          google.colab.kernel.accessAllowed ? 'block' : 'none';\n",
              "\n",
              "        async function convertToInteractive(key) {\n",
              "          const element = document.querySelector('#df-6e9cd709-73f4-48e8-a1fe-3789b02947df');\n",
              "          const dataTable =\n",
              "            await google.colab.kernel.invokeFunction('convertToInteractive',\n",
              "                                                     [key], {});\n",
              "          if (!dataTable) return;\n",
              "\n",
              "          const docLinkHtml = 'Like what you see? Visit the ' +\n",
              "            '<a target=\"_blank\" href=https://colab.research.google.com/notebooks/data_table.ipynb>data table notebook</a>'\n",
              "            + ' to learn more about interactive tables.';\n",
              "          element.innerHTML = '';\n",
              "          dataTable['output_type'] = 'display_data';\n",
              "          await google.colab.output.renderOutput(dataTable, element);\n",
              "          const docLink = document.createElement('div');\n",
              "          docLink.innerHTML = docLinkHtml;\n",
              "          element.appendChild(docLink);\n",
              "        }\n",
              "      </script>\n",
              "    </div>\n",
              "  </div>\n",
              "  "
            ]
          },
          "metadata": {},
          "execution_count": 39
        }
      ]
    },
    {
      "cell_type": "code",
      "source": [
        "# Import libraries.\n",
        "from sklearn.preprocessing import StandardScaler\n",
        "from sklearn.compose import make_column_transformer\n",
        "from sklearn.pipeline import make_pipeline\n",
        "from sklearn.impute import SimpleImputer\n",
        "from sklearn.preprocessing import OneHotEncoder, StandardScaler\n",
        "from sklearn import set_config\n",
        "set_config(display='diagram')"
      ],
      "metadata": {
        "id": "YLiIQd9I4qjo"
      },
      "execution_count": 40,
      "outputs": []
    },
    {
      "cell_type": "code",
      "source": [
        "# Instantiate column selectors for categorical and numerical columns\n",
        "cat_selector = make_column_selector(dtype_include='object')\n",
        "num_selector = make_column_selector(dtype_include='number')"
      ],
      "metadata": {
        "id": "-XtJmnYP5HSF"
      },
      "execution_count": 41,
      "outputs": []
    },
    {
      "cell_type": "code",
      "source": [
        "# Instantiate imputers for mean and most frequent strategy\n",
        "freq_imputer = SimpleImputer(strategy='most_frequent')\n",
        "mean_imputer = SimpleImputer(strategy='mean')"
      ],
      "metadata": {
        "id": "pFaDg99o5Voz"
      },
      "execution_count": 42,
      "outputs": []
    },
    {
      "cell_type": "code",
      "source": [
        "# Instantiate standard scaler object\n",
        "scaler = StandardScaler()"
      ],
      "metadata": {
        "id": "D7SRvXKP5o7t"
      },
      "execution_count": 43,
      "outputs": []
    },
    {
      "cell_type": "code",
      "source": [
        "# Instantiate One-hot encoder object\n",
        "ohe = OneHotEncoder(handle_unknown='ignore', sparse=False)"
      ],
      "metadata": {
        "id": "6AYjTMwx5wmp"
      },
      "execution_count": 44,
      "outputs": []
    },
    {
      "cell_type": "code",
      "source": [
        "# Instantiate pipelines for imputers\n",
        "numeric_pipe = make_pipeline(mean_imputer, scaler)\n",
        "categorical_pipe = make_pipeline(freq_imputer, ohe)"
      ],
      "metadata": {
        "id": "eM-S8A1O6BIe"
      },
      "execution_count": 45,
      "outputs": []
    },
    {
      "cell_type": "code",
      "source": [
        "# Tuples for Column Transformer\n",
        "number_tuple = (numeric_pipe, num_selector)\n",
        "category_tuple = (categorical_pipe, cat_selector)\n",
        "\n",
        "# Instantiate Column transformer object\n",
        "preprocessor = make_column_transformer(number_tuple, category_tuple)"
      ],
      "metadata": {
        "id": "fsnWIT6f6Y9L"
      },
      "execution_count": 46,
      "outputs": []
    },
    {
      "cell_type": "code",
      "source": [
        "# Fit the preprocessor object on the train data and transform both train and test.\n",
        "preprocessor.fit(X_train)\n",
        "\n",
        "X_train_processed = preprocessor.transform(X_train)\n",
        "X_test_processed = preprocessor.transform(X_test)"
      ],
      "metadata": {
        "id": "27xCbRkg6tYr"
      },
      "execution_count": 47,
      "outputs": []
    },
    {
      "cell_type": "code",
      "source": [
        "# Show the output\n",
        "print(X_test_processed)"
      ],
      "metadata": {
        "id": "2XUQgUmv67CK",
        "colab": {
          "base_uri": "https://localhost:8080/"
        },
        "outputId": "85e942c2-5a75-4773-b6e5-e42567b5519d"
      },
      "execution_count": 48,
      "outputs": [
        {
          "output_type": "stream",
          "name": "stdout",
          "text": [
            "[[ 0.33100885 -0.7403206  -0.77664625 ...  1.          0.\n",
            "   0.        ]\n",
            " [-1.17989246 -0.7403206   0.1003166  ...  1.          0.\n",
            "   0.        ]\n",
            " [ 0.37844688  1.35076614 -0.48299432 ...  1.          0.\n",
            "   0.        ]\n",
            " ...\n",
            " [-1.13957013 -0.7403206   1.21832428 ...  1.          0.\n",
            "   0.        ]\n",
            " [-1.49772727 -0.7403206  -0.77809567 ...  1.          0.\n",
            "   0.        ]\n",
            " [ 0.52076098 -0.7403206  -0.77976293 ...  1.          0.\n",
            "   0.        ]]\n"
          ]
        }
      ]
    },
    {
      "cell_type": "code",
      "source": [
        "print(X_train_processed)"
      ],
      "metadata": {
        "id": "88SAkFsl7hzg",
        "colab": {
          "base_uri": "https://localhost:8080/"
        },
        "outputId": "efed120c-3c31-46c8-a548-2f782dd3b095"
      },
      "execution_count": 49,
      "outputs": [
        {
          "output_type": "stream",
          "name": "stdout",
          "text": [
            "[[ 0.81724868 -0.7403206  -0.71277507 ...  0.          1.\n",
            "   0.        ]\n",
            " [ 0.5563395   1.35076614 -1.29105225 ...  0.          1.\n",
            "   0.        ]\n",
            " [-0.13151196  1.35076614  1.81331864 ...  1.          0.\n",
            "   0.        ]\n",
            " ...\n",
            " [ 1.11373638 -0.7403206  -0.92052713 ...  1.          0.\n",
            "   0.        ]\n",
            " [ 1.76600931 -0.7403206  -0.2277552  ...  1.          0.\n",
            "   0.        ]\n",
            " [ 0.81724868 -0.7403206  -0.95867683 ...  1.          0.\n",
            "   0.        ]]\n"
          ]
        }
      ]
    },
    {
      "cell_type": "code",
      "source": [
        "X_test_processed_df = pd.DataFrame(X_test_processed)\n",
        "X_test_processed_df\n"
      ],
      "metadata": {
        "id": "MFoEo1V-7pJS",
        "colab": {
          "base_uri": "https://localhost:8080/",
          "height": 424
        },
        "outputId": "7b93b7de-06ab-4010-b9e6-7f9fa7e5e7b2"
      },
      "execution_count": 50,
      "outputs": [
        {
          "output_type": "execute_result",
          "data": {
            "text/plain": [
              "              0         1         2         3         4         5     6     \\\n",
              "0     3.310089e-01 -0.740321 -0.776646 -0.998816 -1.293807  2.107200   0.0   \n",
              "1    -1.179892e+00 -0.740321  0.100317 -1.585194 -0.102145 -1.291630   0.0   \n",
              "2     3.784469e-01  1.350766 -0.482994 -1.595784  0.136187  0.407785   0.0   \n",
              "3     4.213344e-16  1.350766 -0.415440  0.506592 -1.532139  0.407785   0.0   \n",
              "4    -6.426567e-01  1.350766 -1.047426  0.886725  0.732018 -1.291630   0.0   \n",
              "...            ...       ...       ...       ...       ...       ...   ...   \n",
              "2126  1.113736e+00 -0.740321 -1.134688  0.473646 -1.293807  2.107200   0.0   \n",
              "2127 -6.426567e-01 -0.740321 -1.291052  0.018124  1.089517  0.000000   0.0   \n",
              "2128 -1.139570e+00 -0.740321  1.218324  1.093980  0.493686  0.000000   0.0   \n",
              "2129 -1.497727e+00 -0.740321 -0.778096 -0.366800  0.136187  0.407785   0.0   \n",
              "2130  5.207610e-01 -0.740321 -0.779763  0.112212  1.089517  0.000000   0.0   \n",
              "\n",
              "      7     8     9     ...  1579  1580  1581  1582  1583  1584  1585  1586  \\\n",
              "0      0.0   0.0   0.0  ...   0.0   0.0   0.0   0.0   0.0   1.0   0.0   1.0   \n",
              "1      0.0   0.0   0.0  ...   0.0   1.0   0.0   1.0   0.0   0.0   0.0   1.0   \n",
              "2      0.0   0.0   0.0  ...   0.0   0.0   1.0   1.0   0.0   0.0   0.0   1.0   \n",
              "3      0.0   0.0   0.0  ...   0.0   0.0   0.0   0.0   0.0   1.0   0.0   0.0   \n",
              "4      0.0   0.0   0.0  ...   0.0   0.0   0.0   0.0   1.0   0.0   0.0   1.0   \n",
              "...    ...   ...   ...  ...   ...   ...   ...   ...   ...   ...   ...   ...   \n",
              "2126   0.0   0.0   0.0  ...   0.0   0.0   0.0   0.0   0.0   1.0   0.0   1.0   \n",
              "2127   0.0   0.0   0.0  ...   0.0   0.0   0.0   0.0   1.0   0.0   0.0   1.0   \n",
              "2128   0.0   0.0   0.0  ...   1.0   0.0   0.0   0.0   1.0   0.0   0.0   1.0   \n",
              "2129   0.0   0.0   0.0  ...   0.0   0.0   1.0   1.0   0.0   0.0   0.0   1.0   \n",
              "2130   0.0   0.0   0.0  ...   0.0   0.0   0.0   0.0   1.0   0.0   0.0   1.0   \n",
              "\n",
              "      1587  1588  \n",
              "0      0.0   0.0  \n",
              "1      0.0   0.0  \n",
              "2      0.0   0.0  \n",
              "3      0.0   1.0  \n",
              "4      0.0   0.0  \n",
              "...    ...   ...  \n",
              "2126   0.0   0.0  \n",
              "2127   0.0   0.0  \n",
              "2128   0.0   0.0  \n",
              "2129   0.0   0.0  \n",
              "2130   0.0   0.0  \n",
              "\n",
              "[2131 rows x 1589 columns]"
            ],
            "text/html": [
              "\n",
              "  <div id=\"df-7e014780-ae40-492f-9a20-df08d7d24f54\">\n",
              "    <div class=\"colab-df-container\">\n",
              "      <div>\n",
              "<style scoped>\n",
              "    .dataframe tbody tr th:only-of-type {\n",
              "        vertical-align: middle;\n",
              "    }\n",
              "\n",
              "    .dataframe tbody tr th {\n",
              "        vertical-align: top;\n",
              "    }\n",
              "\n",
              "    .dataframe thead th {\n",
              "        text-align: right;\n",
              "    }\n",
              "</style>\n",
              "<table border=\"1\" class=\"dataframe\">\n",
              "  <thead>\n",
              "    <tr style=\"text-align: right;\">\n",
              "      <th></th>\n",
              "      <th>0</th>\n",
              "      <th>1</th>\n",
              "      <th>2</th>\n",
              "      <th>3</th>\n",
              "      <th>4</th>\n",
              "      <th>5</th>\n",
              "      <th>6</th>\n",
              "      <th>7</th>\n",
              "      <th>8</th>\n",
              "      <th>9</th>\n",
              "      <th>...</th>\n",
              "      <th>1579</th>\n",
              "      <th>1580</th>\n",
              "      <th>1581</th>\n",
              "      <th>1582</th>\n",
              "      <th>1583</th>\n",
              "      <th>1584</th>\n",
              "      <th>1585</th>\n",
              "      <th>1586</th>\n",
              "      <th>1587</th>\n",
              "      <th>1588</th>\n",
              "    </tr>\n",
              "  </thead>\n",
              "  <tbody>\n",
              "    <tr>\n",
              "      <th>0</th>\n",
              "      <td>3.310089e-01</td>\n",
              "      <td>-0.740321</td>\n",
              "      <td>-0.776646</td>\n",
              "      <td>-0.998816</td>\n",
              "      <td>-1.293807</td>\n",
              "      <td>2.107200</td>\n",
              "      <td>0.0</td>\n",
              "      <td>0.0</td>\n",
              "      <td>0.0</td>\n",
              "      <td>0.0</td>\n",
              "      <td>...</td>\n",
              "      <td>0.0</td>\n",
              "      <td>0.0</td>\n",
              "      <td>0.0</td>\n",
              "      <td>0.0</td>\n",
              "      <td>0.0</td>\n",
              "      <td>1.0</td>\n",
              "      <td>0.0</td>\n",
              "      <td>1.0</td>\n",
              "      <td>0.0</td>\n",
              "      <td>0.0</td>\n",
              "    </tr>\n",
              "    <tr>\n",
              "      <th>1</th>\n",
              "      <td>-1.179892e+00</td>\n",
              "      <td>-0.740321</td>\n",
              "      <td>0.100317</td>\n",
              "      <td>-1.585194</td>\n",
              "      <td>-0.102145</td>\n",
              "      <td>-1.291630</td>\n",
              "      <td>0.0</td>\n",
              "      <td>0.0</td>\n",
              "      <td>0.0</td>\n",
              "      <td>0.0</td>\n",
              "      <td>...</td>\n",
              "      <td>0.0</td>\n",
              "      <td>1.0</td>\n",
              "      <td>0.0</td>\n",
              "      <td>1.0</td>\n",
              "      <td>0.0</td>\n",
              "      <td>0.0</td>\n",
              "      <td>0.0</td>\n",
              "      <td>1.0</td>\n",
              "      <td>0.0</td>\n",
              "      <td>0.0</td>\n",
              "    </tr>\n",
              "    <tr>\n",
              "      <th>2</th>\n",
              "      <td>3.784469e-01</td>\n",
              "      <td>1.350766</td>\n",
              "      <td>-0.482994</td>\n",
              "      <td>-1.595784</td>\n",
              "      <td>0.136187</td>\n",
              "      <td>0.407785</td>\n",
              "      <td>0.0</td>\n",
              "      <td>0.0</td>\n",
              "      <td>0.0</td>\n",
              "      <td>0.0</td>\n",
              "      <td>...</td>\n",
              "      <td>0.0</td>\n",
              "      <td>0.0</td>\n",
              "      <td>1.0</td>\n",
              "      <td>1.0</td>\n",
              "      <td>0.0</td>\n",
              "      <td>0.0</td>\n",
              "      <td>0.0</td>\n",
              "      <td>1.0</td>\n",
              "      <td>0.0</td>\n",
              "      <td>0.0</td>\n",
              "    </tr>\n",
              "    <tr>\n",
              "      <th>3</th>\n",
              "      <td>4.213344e-16</td>\n",
              "      <td>1.350766</td>\n",
              "      <td>-0.415440</td>\n",
              "      <td>0.506592</td>\n",
              "      <td>-1.532139</td>\n",
              "      <td>0.407785</td>\n",
              "      <td>0.0</td>\n",
              "      <td>0.0</td>\n",
              "      <td>0.0</td>\n",
              "      <td>0.0</td>\n",
              "      <td>...</td>\n",
              "      <td>0.0</td>\n",
              "      <td>0.0</td>\n",
              "      <td>0.0</td>\n",
              "      <td>0.0</td>\n",
              "      <td>0.0</td>\n",
              "      <td>1.0</td>\n",
              "      <td>0.0</td>\n",
              "      <td>0.0</td>\n",
              "      <td>0.0</td>\n",
              "      <td>1.0</td>\n",
              "    </tr>\n",
              "    <tr>\n",
              "      <th>4</th>\n",
              "      <td>-6.426567e-01</td>\n",
              "      <td>1.350766</td>\n",
              "      <td>-1.047426</td>\n",
              "      <td>0.886725</td>\n",
              "      <td>0.732018</td>\n",
              "      <td>-1.291630</td>\n",
              "      <td>0.0</td>\n",
              "      <td>0.0</td>\n",
              "      <td>0.0</td>\n",
              "      <td>0.0</td>\n",
              "      <td>...</td>\n",
              "      <td>0.0</td>\n",
              "      <td>0.0</td>\n",
              "      <td>0.0</td>\n",
              "      <td>0.0</td>\n",
              "      <td>1.0</td>\n",
              "      <td>0.0</td>\n",
              "      <td>0.0</td>\n",
              "      <td>1.0</td>\n",
              "      <td>0.0</td>\n",
              "      <td>0.0</td>\n",
              "    </tr>\n",
              "    <tr>\n",
              "      <th>...</th>\n",
              "      <td>...</td>\n",
              "      <td>...</td>\n",
              "      <td>...</td>\n",
              "      <td>...</td>\n",
              "      <td>...</td>\n",
              "      <td>...</td>\n",
              "      <td>...</td>\n",
              "      <td>...</td>\n",
              "      <td>...</td>\n",
              "      <td>...</td>\n",
              "      <td>...</td>\n",
              "      <td>...</td>\n",
              "      <td>...</td>\n",
              "      <td>...</td>\n",
              "      <td>...</td>\n",
              "      <td>...</td>\n",
              "      <td>...</td>\n",
              "      <td>...</td>\n",
              "      <td>...</td>\n",
              "      <td>...</td>\n",
              "      <td>...</td>\n",
              "    </tr>\n",
              "    <tr>\n",
              "      <th>2126</th>\n",
              "      <td>1.113736e+00</td>\n",
              "      <td>-0.740321</td>\n",
              "      <td>-1.134688</td>\n",
              "      <td>0.473646</td>\n",
              "      <td>-1.293807</td>\n",
              "      <td>2.107200</td>\n",
              "      <td>0.0</td>\n",
              "      <td>0.0</td>\n",
              "      <td>0.0</td>\n",
              "      <td>0.0</td>\n",
              "      <td>...</td>\n",
              "      <td>0.0</td>\n",
              "      <td>0.0</td>\n",
              "      <td>0.0</td>\n",
              "      <td>0.0</td>\n",
              "      <td>0.0</td>\n",
              "      <td>1.0</td>\n",
              "      <td>0.0</td>\n",
              "      <td>1.0</td>\n",
              "      <td>0.0</td>\n",
              "      <td>0.0</td>\n",
              "    </tr>\n",
              "    <tr>\n",
              "      <th>2127</th>\n",
              "      <td>-6.426567e-01</td>\n",
              "      <td>-0.740321</td>\n",
              "      <td>-1.291052</td>\n",
              "      <td>0.018124</td>\n",
              "      <td>1.089517</td>\n",
              "      <td>0.000000</td>\n",
              "      <td>0.0</td>\n",
              "      <td>0.0</td>\n",
              "      <td>0.0</td>\n",
              "      <td>0.0</td>\n",
              "      <td>...</td>\n",
              "      <td>0.0</td>\n",
              "      <td>0.0</td>\n",
              "      <td>0.0</td>\n",
              "      <td>0.0</td>\n",
              "      <td>1.0</td>\n",
              "      <td>0.0</td>\n",
              "      <td>0.0</td>\n",
              "      <td>1.0</td>\n",
              "      <td>0.0</td>\n",
              "      <td>0.0</td>\n",
              "    </tr>\n",
              "    <tr>\n",
              "      <th>2128</th>\n",
              "      <td>-1.139570e+00</td>\n",
              "      <td>-0.740321</td>\n",
              "      <td>1.218324</td>\n",
              "      <td>1.093980</td>\n",
              "      <td>0.493686</td>\n",
              "      <td>0.000000</td>\n",
              "      <td>0.0</td>\n",
              "      <td>0.0</td>\n",
              "      <td>0.0</td>\n",
              "      <td>0.0</td>\n",
              "      <td>...</td>\n",
              "      <td>1.0</td>\n",
              "      <td>0.0</td>\n",
              "      <td>0.0</td>\n",
              "      <td>0.0</td>\n",
              "      <td>1.0</td>\n",
              "      <td>0.0</td>\n",
              "      <td>0.0</td>\n",
              "      <td>1.0</td>\n",
              "      <td>0.0</td>\n",
              "      <td>0.0</td>\n",
              "    </tr>\n",
              "    <tr>\n",
              "      <th>2129</th>\n",
              "      <td>-1.497727e+00</td>\n",
              "      <td>-0.740321</td>\n",
              "      <td>-0.778096</td>\n",
              "      <td>-0.366800</td>\n",
              "      <td>0.136187</td>\n",
              "      <td>0.407785</td>\n",
              "      <td>0.0</td>\n",
              "      <td>0.0</td>\n",
              "      <td>0.0</td>\n",
              "      <td>0.0</td>\n",
              "      <td>...</td>\n",
              "      <td>0.0</td>\n",
              "      <td>0.0</td>\n",
              "      <td>1.0</td>\n",
              "      <td>1.0</td>\n",
              "      <td>0.0</td>\n",
              "      <td>0.0</td>\n",
              "      <td>0.0</td>\n",
              "      <td>1.0</td>\n",
              "      <td>0.0</td>\n",
              "      <td>0.0</td>\n",
              "    </tr>\n",
              "    <tr>\n",
              "      <th>2130</th>\n",
              "      <td>5.207610e-01</td>\n",
              "      <td>-0.740321</td>\n",
              "      <td>-0.779763</td>\n",
              "      <td>0.112212</td>\n",
              "      <td>1.089517</td>\n",
              "      <td>0.000000</td>\n",
              "      <td>0.0</td>\n",
              "      <td>0.0</td>\n",
              "      <td>0.0</td>\n",
              "      <td>0.0</td>\n",
              "      <td>...</td>\n",
              "      <td>0.0</td>\n",
              "      <td>0.0</td>\n",
              "      <td>0.0</td>\n",
              "      <td>0.0</td>\n",
              "      <td>1.0</td>\n",
              "      <td>0.0</td>\n",
              "      <td>0.0</td>\n",
              "      <td>1.0</td>\n",
              "      <td>0.0</td>\n",
              "      <td>0.0</td>\n",
              "    </tr>\n",
              "  </tbody>\n",
              "</table>\n",
              "<p>2131 rows × 1589 columns</p>\n",
              "</div>\n",
              "      <button class=\"colab-df-convert\" onclick=\"convertToInteractive('df-7e014780-ae40-492f-9a20-df08d7d24f54')\"\n",
              "              title=\"Convert this dataframe to an interactive table.\"\n",
              "              style=\"display:none;\">\n",
              "        \n",
              "  <svg xmlns=\"http://www.w3.org/2000/svg\" height=\"24px\"viewBox=\"0 0 24 24\"\n",
              "       width=\"24px\">\n",
              "    <path d=\"M0 0h24v24H0V0z\" fill=\"none\"/>\n",
              "    <path d=\"M18.56 5.44l.94 2.06.94-2.06 2.06-.94-2.06-.94-.94-2.06-.94 2.06-2.06.94zm-11 1L8.5 8.5l.94-2.06 2.06-.94-2.06-.94L8.5 2.5l-.94 2.06-2.06.94zm10 10l.94 2.06.94-2.06 2.06-.94-2.06-.94-.94-2.06-.94 2.06-2.06.94z\"/><path d=\"M17.41 7.96l-1.37-1.37c-.4-.4-.92-.59-1.43-.59-.52 0-1.04.2-1.43.59L10.3 9.45l-7.72 7.72c-.78.78-.78 2.05 0 2.83L4 21.41c.39.39.9.59 1.41.59.51 0 1.02-.2 1.41-.59l7.78-7.78 2.81-2.81c.8-.78.8-2.07 0-2.86zM5.41 20L4 18.59l7.72-7.72 1.47 1.35L5.41 20z\"/>\n",
              "  </svg>\n",
              "      </button>\n",
              "      \n",
              "  <style>\n",
              "    .colab-df-container {\n",
              "      display:flex;\n",
              "      flex-wrap:wrap;\n",
              "      gap: 12px;\n",
              "    }\n",
              "\n",
              "    .colab-df-convert {\n",
              "      background-color: #E8F0FE;\n",
              "      border: none;\n",
              "      border-radius: 50%;\n",
              "      cursor: pointer;\n",
              "      display: none;\n",
              "      fill: #1967D2;\n",
              "      height: 32px;\n",
              "      padding: 0 0 0 0;\n",
              "      width: 32px;\n",
              "    }\n",
              "\n",
              "    .colab-df-convert:hover {\n",
              "      background-color: #E2EBFA;\n",
              "      box-shadow: 0px 1px 2px rgba(60, 64, 67, 0.3), 0px 1px 3px 1px rgba(60, 64, 67, 0.15);\n",
              "      fill: #174EA6;\n",
              "    }\n",
              "\n",
              "    [theme=dark] .colab-df-convert {\n",
              "      background-color: #3B4455;\n",
              "      fill: #D2E3FC;\n",
              "    }\n",
              "\n",
              "    [theme=dark] .colab-df-convert:hover {\n",
              "      background-color: #434B5C;\n",
              "      box-shadow: 0px 1px 3px 1px rgba(0, 0, 0, 0.15);\n",
              "      filter: drop-shadow(0px 1px 2px rgba(0, 0, 0, 0.3));\n",
              "      fill: #FFFFFF;\n",
              "    }\n",
              "  </style>\n",
              "\n",
              "      <script>\n",
              "        const buttonEl =\n",
              "          document.querySelector('#df-7e014780-ae40-492f-9a20-df08d7d24f54 button.colab-df-convert');\n",
              "        buttonEl.style.display =\n",
              "          google.colab.kernel.accessAllowed ? 'block' : 'none';\n",
              "\n",
              "        async function convertToInteractive(key) {\n",
              "          const element = document.querySelector('#df-7e014780-ae40-492f-9a20-df08d7d24f54');\n",
              "          const dataTable =\n",
              "            await google.colab.kernel.invokeFunction('convertToInteractive',\n",
              "                                                     [key], {});\n",
              "          if (!dataTable) return;\n",
              "\n",
              "          const docLinkHtml = 'Like what you see? Visit the ' +\n",
              "            '<a target=\"_blank\" href=https://colab.research.google.com/notebooks/data_table.ipynb>data table notebook</a>'\n",
              "            + ' to learn more about interactive tables.';\n",
              "          element.innerHTML = '';\n",
              "          dataTable['output_type'] = 'display_data';\n",
              "          await google.colab.output.renderOutput(dataTable, element);\n",
              "          const docLink = document.createElement('div');\n",
              "          docLink.innerHTML = docLinkHtml;\n",
              "          element.appendChild(docLink);\n",
              "        }\n",
              "      </script>\n",
              "    </div>\n",
              "  </div>\n",
              "  "
            ]
          },
          "metadata": {},
          "execution_count": 50
        }
      ]
    },
    {
      "cell_type": "markdown",
      "source": [
        "# **Building a linear regression model.**"
      ],
      "metadata": {
        "id": "YwQTfZPUO94V"
      }
    },
    {
      "cell_type": "code",
      "source": [
        "# Import necessary libraries.\n",
        "from sklearn.preprocessing import StandardScaler\n",
        "from sklearn.linear_model import LinearRegression\n",
        "from sklearn.pipeline import make_pipeline\n",
        "from sklearn.metrics import mean_absolute_error, mean_squared_error, r2_score\n",
        "# Instantiate the Standard Scaler and linear regression model.\n",
        "scaler = StandardScaler()\n",
        "lin_reg = LinearRegression()\n",
        "# Create pipeline.\n",
        "lin_reg_pipe = make_pipeline(scaler, lin_reg)\n",
        "# Fit pipeline on the model\n",
        "lin_reg_pipe.fit(X_train_processed, y_train)"
      ],
      "metadata": {
        "colab": {
          "base_uri": "https://localhost:8080/",
          "height": 126
        },
        "id": "bwrO-7ptM_Rp",
        "outputId": "3b295d9a-65a5-400d-e433-fbad772c5722"
      },
      "execution_count": 51,
      "outputs": [
        {
          "output_type": "execute_result",
          "data": {
            "text/plain": [
              "Pipeline(steps=[('standardscaler', StandardScaler()),\n",
              "                ('linearregression', LinearRegression())])"
            ],
            "text/html": [
              "<style>#sk-736bca76-580e-47d9-9e33-1dd901dcbadb {color: black;background-color: white;}#sk-736bca76-580e-47d9-9e33-1dd901dcbadb pre{padding: 0;}#sk-736bca76-580e-47d9-9e33-1dd901dcbadb div.sk-toggleable {background-color: white;}#sk-736bca76-580e-47d9-9e33-1dd901dcbadb label.sk-toggleable__label {cursor: pointer;display: block;width: 100%;margin-bottom: 0;padding: 0.3em;box-sizing: border-box;text-align: center;}#sk-736bca76-580e-47d9-9e33-1dd901dcbadb label.sk-toggleable__label-arrow:before {content: \"▸\";float: left;margin-right: 0.25em;color: #696969;}#sk-736bca76-580e-47d9-9e33-1dd901dcbadb label.sk-toggleable__label-arrow:hover:before {color: black;}#sk-736bca76-580e-47d9-9e33-1dd901dcbadb div.sk-estimator:hover label.sk-toggleable__label-arrow:before {color: black;}#sk-736bca76-580e-47d9-9e33-1dd901dcbadb div.sk-toggleable__content {max-height: 0;max-width: 0;overflow: hidden;text-align: left;background-color: #f0f8ff;}#sk-736bca76-580e-47d9-9e33-1dd901dcbadb div.sk-toggleable__content pre {margin: 0.2em;color: black;border-radius: 0.25em;background-color: #f0f8ff;}#sk-736bca76-580e-47d9-9e33-1dd901dcbadb input.sk-toggleable__control:checked~div.sk-toggleable__content {max-height: 200px;max-width: 100%;overflow: auto;}#sk-736bca76-580e-47d9-9e33-1dd901dcbadb input.sk-toggleable__control:checked~label.sk-toggleable__label-arrow:before {content: \"▾\";}#sk-736bca76-580e-47d9-9e33-1dd901dcbadb div.sk-estimator input.sk-toggleable__control:checked~label.sk-toggleable__label {background-color: #d4ebff;}#sk-736bca76-580e-47d9-9e33-1dd901dcbadb div.sk-label input.sk-toggleable__control:checked~label.sk-toggleable__label {background-color: #d4ebff;}#sk-736bca76-580e-47d9-9e33-1dd901dcbadb input.sk-hidden--visually {border: 0;clip: rect(1px 1px 1px 1px);clip: rect(1px, 1px, 1px, 1px);height: 1px;margin: -1px;overflow: hidden;padding: 0;position: absolute;width: 1px;}#sk-736bca76-580e-47d9-9e33-1dd901dcbadb div.sk-estimator {font-family: monospace;background-color: #f0f8ff;border: 1px dotted black;border-radius: 0.25em;box-sizing: border-box;margin-bottom: 0.5em;}#sk-736bca76-580e-47d9-9e33-1dd901dcbadb div.sk-estimator:hover {background-color: #d4ebff;}#sk-736bca76-580e-47d9-9e33-1dd901dcbadb div.sk-parallel-item::after {content: \"\";width: 100%;border-bottom: 1px solid gray;flex-grow: 1;}#sk-736bca76-580e-47d9-9e33-1dd901dcbadb div.sk-label:hover label.sk-toggleable__label {background-color: #d4ebff;}#sk-736bca76-580e-47d9-9e33-1dd901dcbadb div.sk-serial::before {content: \"\";position: absolute;border-left: 1px solid gray;box-sizing: border-box;top: 2em;bottom: 0;left: 50%;}#sk-736bca76-580e-47d9-9e33-1dd901dcbadb div.sk-serial {display: flex;flex-direction: column;align-items: center;background-color: white;padding-right: 0.2em;padding-left: 0.2em;}#sk-736bca76-580e-47d9-9e33-1dd901dcbadb div.sk-item {z-index: 1;}#sk-736bca76-580e-47d9-9e33-1dd901dcbadb div.sk-parallel {display: flex;align-items: stretch;justify-content: center;background-color: white;}#sk-736bca76-580e-47d9-9e33-1dd901dcbadb div.sk-parallel::before {content: \"\";position: absolute;border-left: 1px solid gray;box-sizing: border-box;top: 2em;bottom: 0;left: 50%;}#sk-736bca76-580e-47d9-9e33-1dd901dcbadb div.sk-parallel-item {display: flex;flex-direction: column;position: relative;background-color: white;}#sk-736bca76-580e-47d9-9e33-1dd901dcbadb div.sk-parallel-item:first-child::after {align-self: flex-end;width: 50%;}#sk-736bca76-580e-47d9-9e33-1dd901dcbadb div.sk-parallel-item:last-child::after {align-self: flex-start;width: 50%;}#sk-736bca76-580e-47d9-9e33-1dd901dcbadb div.sk-parallel-item:only-child::after {width: 0;}#sk-736bca76-580e-47d9-9e33-1dd901dcbadb div.sk-dashed-wrapped {border: 1px dashed gray;margin: 0 0.4em 0.5em 0.4em;box-sizing: border-box;padding-bottom: 0.4em;background-color: white;position: relative;}#sk-736bca76-580e-47d9-9e33-1dd901dcbadb div.sk-label label {font-family: monospace;font-weight: bold;background-color: white;display: inline-block;line-height: 1.2em;}#sk-736bca76-580e-47d9-9e33-1dd901dcbadb div.sk-label-container {position: relative;z-index: 2;text-align: center;}#sk-736bca76-580e-47d9-9e33-1dd901dcbadb div.sk-container {/* jupyter's `normalize.less` sets `[hidden] { display: none; }` but bootstrap.min.css set `[hidden] { display: none !important; }` so we also need the `!important` here to be able to override the default hidden behavior on the sphinx rendered scikit-learn.org. See: https://github.com/scikit-learn/scikit-learn/issues/21755 */display: inline-block !important;position: relative;}#sk-736bca76-580e-47d9-9e33-1dd901dcbadb div.sk-text-repr-fallback {display: none;}</style><div id=\"sk-736bca76-580e-47d9-9e33-1dd901dcbadb\" class=\"sk-top-container\"><div class=\"sk-text-repr-fallback\"><pre>Pipeline(steps=[(&#x27;standardscaler&#x27;, StandardScaler()),\n",
              "                (&#x27;linearregression&#x27;, LinearRegression())])</pre><b>Please rerun this cell to show the HTML repr or trust the notebook.</b></div><div class=\"sk-container\" hidden><div class=\"sk-item sk-dashed-wrapped\"><div class=\"sk-label-container\"><div class=\"sk-label sk-toggleable\"><input class=\"sk-toggleable__control sk-hidden--visually\" id=\"fa432db2-fd6c-4fe2-bf2b-c288d82996c6\" type=\"checkbox\" ><label for=\"fa432db2-fd6c-4fe2-bf2b-c288d82996c6\" class=\"sk-toggleable__label sk-toggleable__label-arrow\">Pipeline</label><div class=\"sk-toggleable__content\"><pre>Pipeline(steps=[(&#x27;standardscaler&#x27;, StandardScaler()),\n",
              "                (&#x27;linearregression&#x27;, LinearRegression())])</pre></div></div></div><div class=\"sk-serial\"><div class=\"sk-item\"><div class=\"sk-estimator sk-toggleable\"><input class=\"sk-toggleable__control sk-hidden--visually\" id=\"8e696c12-3693-4500-b4cb-e9040efaa189\" type=\"checkbox\" ><label for=\"8e696c12-3693-4500-b4cb-e9040efaa189\" class=\"sk-toggleable__label sk-toggleable__label-arrow\">StandardScaler</label><div class=\"sk-toggleable__content\"><pre>StandardScaler()</pre></div></div></div><div class=\"sk-item\"><div class=\"sk-estimator sk-toggleable\"><input class=\"sk-toggleable__control sk-hidden--visually\" id=\"7e8399aa-6399-4b50-afe8-de8db1441602\" type=\"checkbox\" ><label for=\"7e8399aa-6399-4b50-afe8-de8db1441602\" class=\"sk-toggleable__label sk-toggleable__label-arrow\">LinearRegression</label><div class=\"sk-toggleable__content\"><pre>LinearRegression()</pre></div></div></div></div></div></div></div>"
            ]
          },
          "metadata": {},
          "execution_count": 51
        }
      ]
    },
    {
      "cell_type": "code",
      "source": [
        "# Create model predictions.\n",
        "train_pred = lin_reg_pipe.predict(X_train_processed)\n",
        "test_pred = lin_reg_pipe.predict(X_test_processed)"
      ],
      "metadata": {
        "id": "A2-DNZPt9PJo"
      },
      "execution_count": 52,
      "outputs": []
    },
    {
      "cell_type": "code",
      "source": [
        "# Calculating R^2\n",
        "train_r2 = np.corrcoef(y_train, train_pred)[0][1]**2\n",
        "test_r2 = np.corrcoef(y_test, test_pred)[0][1]**2\n",
        "\n",
        "print(f\"Model Training R2: {train_r2}\")\n",
        "print(f\"Model Testing R2: {test_r2}\")"
      ],
      "metadata": {
        "colab": {
          "base_uri": "https://localhost:8080/"
        },
        "id": "Acl9oyB6QVBW",
        "outputId": "fbd6f6da-6db5-4788-c300-8e712969e27e"
      },
      "execution_count": 53,
      "outputs": [
        {
          "output_type": "stream",
          "name": "stdout",
          "text": [
            "Model Training R2: 0.6677226980820591\n",
            "Model Testing R2: 0.00022602168172175362\n"
          ]
        }
      ]
    },
    {
      "cell_type": "markdown",
      "source": [
        "The resulting R^2 value after evaluating the model indicates almost score 0 for the testing model indicationg that the model does not predict any of the variance of the target. Therefore this can't be deployed."
      ],
      "metadata": {
        "id": "XblmNxaqR9dz"
      }
    },
    {
      "cell_type": "code",
      "source": [
        "# Calculating RMSE\n",
        "train_RMSE = np.sqrt(np.mean(train_pred - y_train)**2)\n",
        "test_RMSE = np.sqrt(np.mean(test_pred - y_test)**2)\n",
        "\n",
        "print(f\"Model Training MAE: {train_RMSE}\")\n",
        "print(f\"Model Testing MAE: {test_RMSE}\")"
      ],
      "metadata": {
        "colab": {
          "base_uri": "https://localhost:8080/"
        },
        "id": "xz6Ad191Q1-I",
        "outputId": "55b52cfe-b236-49cc-f361-a3b2485c1922"
      },
      "execution_count": 54,
      "outputs": [
        {
          "output_type": "stream",
          "name": "stdout",
          "text": [
            "Model Training MAE: 8.319375304347394\n",
            "Model Testing MAE: 72282675386563.19\n"
          ]
        }
      ]
    },
    {
      "cell_type": "markdown",
      "source": [
        "The resulting RMSE value after evaluating the data is very high indicating that the model is not predicting any variance of the target. This is consistent with the R^2 valuation prediction and thus RMSE too can't be used."
      ],
      "metadata": {
        "id": "9qOcs1MVSrIS"
      }
    },
    {
      "cell_type": "markdown",
      "source": [
        "# **Building a regression tree model.**"
      ],
      "metadata": {
        "id": "ZoE6--0oSt0N"
      }
    },
    {
      "cell_type": "code",
      "source": [
        "from sklearn.tree import DecisionTreeRegressor"
      ],
      "metadata": {
        "id": "VH19MVe8a2eq"
      },
      "execution_count": 55,
      "outputs": []
    },
    {
      "cell_type": "code",
      "source": [
        "# Instantiate the model\n",
        "dec_tree = DecisionTreeRegressor(random_state = 42)"
      ],
      "metadata": {
        "id": "JT05FjhqbZ1M"
      },
      "execution_count": 56,
      "outputs": []
    },
    {
      "cell_type": "code",
      "source": [
        "# Fit the model using the train data\n",
        "dec_tree.fit(X_train_processed, y_train)"
      ],
      "metadata": {
        "colab": {
          "base_uri": "https://localhost:8080/",
          "height": 75
        },
        "id": "IWX_UfF9bthz",
        "outputId": "9799785d-712f-4daf-fd8c-d94bb443c1ce"
      },
      "execution_count": 57,
      "outputs": [
        {
          "output_type": "execute_result",
          "data": {
            "text/plain": [
              "DecisionTreeRegressor(random_state=42)"
            ],
            "text/html": [
              "<style>#sk-8404ee2a-f67d-4d2a-9c0d-f8ec3e9b1049 {color: black;background-color: white;}#sk-8404ee2a-f67d-4d2a-9c0d-f8ec3e9b1049 pre{padding: 0;}#sk-8404ee2a-f67d-4d2a-9c0d-f8ec3e9b1049 div.sk-toggleable {background-color: white;}#sk-8404ee2a-f67d-4d2a-9c0d-f8ec3e9b1049 label.sk-toggleable__label {cursor: pointer;display: block;width: 100%;margin-bottom: 0;padding: 0.3em;box-sizing: border-box;text-align: center;}#sk-8404ee2a-f67d-4d2a-9c0d-f8ec3e9b1049 label.sk-toggleable__label-arrow:before {content: \"▸\";float: left;margin-right: 0.25em;color: #696969;}#sk-8404ee2a-f67d-4d2a-9c0d-f8ec3e9b1049 label.sk-toggleable__label-arrow:hover:before {color: black;}#sk-8404ee2a-f67d-4d2a-9c0d-f8ec3e9b1049 div.sk-estimator:hover label.sk-toggleable__label-arrow:before {color: black;}#sk-8404ee2a-f67d-4d2a-9c0d-f8ec3e9b1049 div.sk-toggleable__content {max-height: 0;max-width: 0;overflow: hidden;text-align: left;background-color: #f0f8ff;}#sk-8404ee2a-f67d-4d2a-9c0d-f8ec3e9b1049 div.sk-toggleable__content pre {margin: 0.2em;color: black;border-radius: 0.25em;background-color: #f0f8ff;}#sk-8404ee2a-f67d-4d2a-9c0d-f8ec3e9b1049 input.sk-toggleable__control:checked~div.sk-toggleable__content {max-height: 200px;max-width: 100%;overflow: auto;}#sk-8404ee2a-f67d-4d2a-9c0d-f8ec3e9b1049 input.sk-toggleable__control:checked~label.sk-toggleable__label-arrow:before {content: \"▾\";}#sk-8404ee2a-f67d-4d2a-9c0d-f8ec3e9b1049 div.sk-estimator input.sk-toggleable__control:checked~label.sk-toggleable__label {background-color: #d4ebff;}#sk-8404ee2a-f67d-4d2a-9c0d-f8ec3e9b1049 div.sk-label input.sk-toggleable__control:checked~label.sk-toggleable__label {background-color: #d4ebff;}#sk-8404ee2a-f67d-4d2a-9c0d-f8ec3e9b1049 input.sk-hidden--visually {border: 0;clip: rect(1px 1px 1px 1px);clip: rect(1px, 1px, 1px, 1px);height: 1px;margin: -1px;overflow: hidden;padding: 0;position: absolute;width: 1px;}#sk-8404ee2a-f67d-4d2a-9c0d-f8ec3e9b1049 div.sk-estimator {font-family: monospace;background-color: #f0f8ff;border: 1px dotted black;border-radius: 0.25em;box-sizing: border-box;margin-bottom: 0.5em;}#sk-8404ee2a-f67d-4d2a-9c0d-f8ec3e9b1049 div.sk-estimator:hover {background-color: #d4ebff;}#sk-8404ee2a-f67d-4d2a-9c0d-f8ec3e9b1049 div.sk-parallel-item::after {content: \"\";width: 100%;border-bottom: 1px solid gray;flex-grow: 1;}#sk-8404ee2a-f67d-4d2a-9c0d-f8ec3e9b1049 div.sk-label:hover label.sk-toggleable__label {background-color: #d4ebff;}#sk-8404ee2a-f67d-4d2a-9c0d-f8ec3e9b1049 div.sk-serial::before {content: \"\";position: absolute;border-left: 1px solid gray;box-sizing: border-box;top: 2em;bottom: 0;left: 50%;}#sk-8404ee2a-f67d-4d2a-9c0d-f8ec3e9b1049 div.sk-serial {display: flex;flex-direction: column;align-items: center;background-color: white;padding-right: 0.2em;padding-left: 0.2em;}#sk-8404ee2a-f67d-4d2a-9c0d-f8ec3e9b1049 div.sk-item {z-index: 1;}#sk-8404ee2a-f67d-4d2a-9c0d-f8ec3e9b1049 div.sk-parallel {display: flex;align-items: stretch;justify-content: center;background-color: white;}#sk-8404ee2a-f67d-4d2a-9c0d-f8ec3e9b1049 div.sk-parallel::before {content: \"\";position: absolute;border-left: 1px solid gray;box-sizing: border-box;top: 2em;bottom: 0;left: 50%;}#sk-8404ee2a-f67d-4d2a-9c0d-f8ec3e9b1049 div.sk-parallel-item {display: flex;flex-direction: column;position: relative;background-color: white;}#sk-8404ee2a-f67d-4d2a-9c0d-f8ec3e9b1049 div.sk-parallel-item:first-child::after {align-self: flex-end;width: 50%;}#sk-8404ee2a-f67d-4d2a-9c0d-f8ec3e9b1049 div.sk-parallel-item:last-child::after {align-self: flex-start;width: 50%;}#sk-8404ee2a-f67d-4d2a-9c0d-f8ec3e9b1049 div.sk-parallel-item:only-child::after {width: 0;}#sk-8404ee2a-f67d-4d2a-9c0d-f8ec3e9b1049 div.sk-dashed-wrapped {border: 1px dashed gray;margin: 0 0.4em 0.5em 0.4em;box-sizing: border-box;padding-bottom: 0.4em;background-color: white;position: relative;}#sk-8404ee2a-f67d-4d2a-9c0d-f8ec3e9b1049 div.sk-label label {font-family: monospace;font-weight: bold;background-color: white;display: inline-block;line-height: 1.2em;}#sk-8404ee2a-f67d-4d2a-9c0d-f8ec3e9b1049 div.sk-label-container {position: relative;z-index: 2;text-align: center;}#sk-8404ee2a-f67d-4d2a-9c0d-f8ec3e9b1049 div.sk-container {/* jupyter's `normalize.less` sets `[hidden] { display: none; }` but bootstrap.min.css set `[hidden] { display: none !important; }` so we also need the `!important` here to be able to override the default hidden behavior on the sphinx rendered scikit-learn.org. See: https://github.com/scikit-learn/scikit-learn/issues/21755 */display: inline-block !important;position: relative;}#sk-8404ee2a-f67d-4d2a-9c0d-f8ec3e9b1049 div.sk-text-repr-fallback {display: none;}</style><div id=\"sk-8404ee2a-f67d-4d2a-9c0d-f8ec3e9b1049\" class=\"sk-top-container\"><div class=\"sk-text-repr-fallback\"><pre>DecisionTreeRegressor(random_state=42)</pre><b>Please rerun this cell to show the HTML repr or trust the notebook.</b></div><div class=\"sk-container\" hidden><div class=\"sk-item\"><div class=\"sk-estimator sk-toggleable\"><input class=\"sk-toggleable__control sk-hidden--visually\" id=\"75b92458-6aad-4e50-aeff-a7c2c98ad30a\" type=\"checkbox\" checked><label for=\"75b92458-6aad-4e50-aeff-a7c2c98ad30a\" class=\"sk-toggleable__label sk-toggleable__label-arrow\">DecisionTreeRegressor</label><div class=\"sk-toggleable__content\"><pre>DecisionTreeRegressor(random_state=42)</pre></div></div></div></div></div>"
            ]
          },
          "metadata": {},
          "execution_count": 57
        }
      ]
    },
    {
      "cell_type": "code",
      "source": [
        "# Predict the target values for the training set and test set.\n",
        "train_pred_dec = dec_tree.predict(X_train_processed)\n",
        "test_pred_dec = dec_tree.predict(X_test_processed)"
      ],
      "metadata": {
        "id": "GKw8_T4RcxTq"
      },
      "execution_count": 58,
      "outputs": []
    },
    {
      "cell_type": "code",
      "source": [
        "# evaluate the model. default regression models metric is R^2\n",
        "train_score = dec_tree.score(X_train_processed, y_train)\n",
        "test_score = dec_tree.score(X_test_processed, y_test)\n",
        "print(train_score)\n",
        "print(test_score)"
      ],
      "metadata": {
        "colab": {
          "base_uri": "https://localhost:8080/"
        },
        "id": "fKRLH_4cdUdv",
        "outputId": "4b1c24b8-ecc8-41a2-e2ae-c328117bb17d"
      },
      "execution_count": 59,
      "outputs": [
        {
          "output_type": "stream",
          "name": "stdout",
          "text": [
            "1.0\n",
            "0.20466653481432462\n"
          ]
        }
      ]
    },
    {
      "cell_type": "markdown",
      "source": [
        "The default decision tree above has a much higher score on the training data than on the test data indication of the model overfitting."
      ],
      "metadata": {
        "id": "LzBZ52j0VWEZ"
      }
    },
    {
      "cell_type": "markdown",
      "source": [
        "Tuning the Model"
      ],
      "metadata": {
        "id": "Zz-KyEnHT9bn"
      }
    },
    {
      "cell_type": "code",
      "source": [
        "dec_tree.get_params()"
      ],
      "metadata": {
        "colab": {
          "base_uri": "https://localhost:8080/"
        },
        "id": "a--ktj_GUA1D",
        "outputId": "e74d2d6e-7fa7-4adf-cf62-8eaa8f4277d4"
      },
      "execution_count": 60,
      "outputs": [
        {
          "output_type": "execute_result",
          "data": {
            "text/plain": [
              "{'ccp_alpha': 0.0,\n",
              " 'criterion': 'squared_error',\n",
              " 'max_depth': None,\n",
              " 'max_features': None,\n",
              " 'max_leaf_nodes': None,\n",
              " 'min_impurity_decrease': 0.0,\n",
              " 'min_samples_leaf': 1,\n",
              " 'min_samples_split': 2,\n",
              " 'min_weight_fraction_leaf': 0.0,\n",
              " 'random_state': 42,\n",
              " 'splitter': 'best'}"
            ]
          },
          "metadata": {},
          "execution_count": 60
        }
      ]
    },
    {
      "cell_type": "code",
      "source": [
        "# Considering to adjust the max_depth parameter, Getting the depth of the default tree.\n",
        "dec_tree.get_depth()"
      ],
      "metadata": {
        "colab": {
          "base_uri": "https://localhost:8080/"
        },
        "id": "u8sote9AUQqI",
        "outputId": "a9cd2b4f-71c9-4b3d-facc-8989c57559b0"
      },
      "execution_count": 61,
      "outputs": [
        {
          "output_type": "execute_result",
          "data": {
            "text/plain": [
              "60"
            ]
          },
          "metadata": {},
          "execution_count": 61
        }
      ]
    },
    {
      "cell_type": "markdown",
      "source": [
        "Using a for loop to try many values and compare them"
      ],
      "metadata": {
        "id": "xIOYmtuLU-vR"
      }
    },
    {
      "cell_type": "code",
      "source": [
        "max_depth_range = list(range(2, 60))\n",
        "r2 = []\n",
        "for depth in max_depth_range:\n",
        "  dec_tree = DecisionTreeRegressor(max_depth = depth, random_state=42)\n",
        "  dec_tree.fit(X_train_processed, y_train)\n",
        "  score = dec_tree.score(X_test_processed, y_test)\n",
        "  r2.append(score)"
      ],
      "metadata": {
        "id": "1Xu4mbGqVrcw"
      },
      "execution_count": 62,
      "outputs": []
    },
    {
      "cell_type": "code",
      "source": [
        "plt.plot(max_depth_range, r2)\n",
        "plt.xlabel('Max_Depth')\n",
        "plt.ylabel('R2');"
      ],
      "metadata": {
        "colab": {
          "base_uri": "https://localhost:8080/",
          "height": 361
        },
        "id": "H2yAUy_LYiz2",
        "outputId": "8eb5549e-9ee7-40c9-d93e-52ecae08b593"
      },
      "execution_count": 65,
      "outputs": [
        {
          "output_type": "display_data",
          "data": {
            "text/plain": [
              "<Figure size 576x396 with 1 Axes>"
            ],
            "image/png": "[encoded data removed]"
          },
          "metadata": {}
        }
      ]
    },
    {
      "cell_type": "markdown",
      "source": [
        "Scaling it to get actual value of max_depth which gives best fit R^2."
      ],
      "metadata": {
        "id": "AnftXcDHKqDA"
      }
    },
    {
      "cell_type": "code",
      "source": [
        "max_depth_range = list(range(2, 10))\n",
        "r2 = []\n",
        "for depth in max_depth_range:\n",
        "  dec_tree = DecisionTreeRegressor(max_depth = depth, random_state=42)\n",
        "  dec_tree.fit(X_train_processed, y_train)\n",
        "  score = dec_tree.score(X_test_processed, y_test)\n",
        "  r2.append(score)"
      ],
      "metadata": {
        "id": "XvkpJkrdKmz_"
      },
      "execution_count": 67,
      "outputs": []
    },
    {
      "cell_type": "code",
      "source": [
        "plt.plot(max_depth_range, r2)\n",
        "plt.xlabel('Max_Depth')\n",
        "plt.ylabel('R2');"
      ],
      "metadata": {
        "colab": {
          "base_uri": "https://localhost:8080/",
          "height": 361
        },
        "id": "sDhWegNbK8Y5",
        "outputId": "f46deb41-587f-4c71-b3f3-5c4a96a55720"
      },
      "execution_count": 68,
      "outputs": [
        {
          "output_type": "display_data",
          "data": {
            "text/plain": [
              "<Figure size 576x396 with 1 Axes>"
            ],
            "image/png": "[encoded data removed]"
          },
          "metadata": {}
        }
      ]
    },
    {
      "cell_type": "markdown",
      "source": [
        "From the visualisation above it is evident that the best score for the model is when the value for max_depth is 5, that is when the training and test results are close to each other and the test results have increased compared to other models."
      ],
      "metadata": {
        "id": "crAhh_6muVd1"
      }
    },
    {
      "cell_type": "code",
      "source": [
        "dec_tree_5 = DecisionTreeRegressor(max_depth = 5, random_state = 42)\n",
        "dec_tree_5.fit(X_train_processed, y_train)\n",
        "train_5_score = dec_tree_5.score(X_train_processed, y_train)\n",
        "test_5_score = dec_tree_5.score(X_test_processed, y_test)\n",
        "print(train_5_score)\n",
        "print(test_5_score)"
      ],
      "metadata": {
        "colab": {
          "base_uri": "https://localhost:8080/"
        },
        "id": "cAPR4A10ZOQR",
        "outputId": "b8b1f45c-eca2-45e4-ac43-82e07e9178be"
      },
      "execution_count": 64,
      "outputs": [
        {
          "output_type": "stream",
          "name": "stdout",
          "text": [
            "0.6042066848171654\n",
            "0.5960564372160062\n"
          ]
        }
      ]
    },
    {
      "cell_type": "markdown",
      "source": [
        "From the 3 models considered above the regression tree model has given better values (training = 60% and testing = 60%) making it the best fit, this as compared to R^2 which was found to be too low (Training = 1 and Testing = 0.00022) and RMSE which was found to be too high (Training = 8.32 and teasting = 72.39x10**12).\n",
        "\n",
        "In this case the tuned (max_depth = 5) regression tree model shall be considered for deployment."
      ],
      "metadata": {
        "id": "01Ffbrk5WVyv"
      }
    }
  ]
}